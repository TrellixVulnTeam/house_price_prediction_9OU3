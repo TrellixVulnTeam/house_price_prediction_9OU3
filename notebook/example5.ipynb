{
 "cells": [
  {
   "cell_type": "code",
   "execution_count": 1,
   "metadata": {},
   "outputs": [],
   "source": [
    "import os"
   ]
  },
  {
   "cell_type": "code",
   "execution_count": 2,
   "metadata": {},
   "outputs": [
    {
     "data": {
      "text/plain": [
       "'d:\\\\ML Projects\\\\house_price_prediction\\\\notebook'"
      ]
     },
     "execution_count": 2,
     "metadata": {},
     "output_type": "execute_result"
    }
   ],
   "source": [
    "os.getcwd()"
   ]
  },
  {
   "cell_type": "code",
   "execution_count": 3,
   "metadata": {},
   "outputs": [],
   "source": [
    "os.chdir(\"d:\\\\ML Projects\\\\house_price_prediction\")"
   ]
  },
  {
   "cell_type": "code",
   "execution_count": 4,
   "metadata": {},
   "outputs": [],
   "source": [
    "from housing.entity.model_factory import ModelFactory"
   ]
  },
  {
   "cell_type": "code",
   "execution_count": 5,
   "metadata": {},
   "outputs": [],
   "source": [
    "model_config_file = r\"D:\\ML Projects\\house_price_prediction\\config\\model.yaml\""
   ]
  },
  {
   "cell_type": "code",
   "execution_count": 6,
   "metadata": {},
   "outputs": [
    {
     "ename": "ExceptionHendler",
     "evalue": "error occure in file : [d:\\ML Projects\\house_price_prediction\\housing\\entity\\model_factory.py]\n        at Try block line Number : [157] and\n        Exception_block_line_number : [169]\n          Error_message is : [error occure in file : [d:\\ML Projects\\house_price_prediction\\housing\\entity\\model_factory.py]\n        at Try block line Number : [188] and\n        Exception_block_line_number : [191]\n          Error_message is : [while parsing a block mapping\n  in \"D:\\ML Projects\\house_price_prediction\\config\\model.yaml\", line 1, column 1\nexpected <block end>, but found '<block mapping start>'\n  in \"D:\\ML Projects\\house_price_prediction\\config\\model.yaml\", line 19, column 2]        \n        ]        \n        ",
     "output_type": "error",
     "traceback": [
      "\u001b[1;31m---------------------------------------------------------------------------\u001b[0m",
      "\u001b[1;31mParserError\u001b[0m                               Traceback (most recent call last)",
      "File \u001b[1;32md:\\ML Projects\\house_price_prediction\\housing\\entity\\model_factory.py:188\u001b[0m, in \u001b[0;36mModelFactory.read_params\u001b[1;34m(config_path)\u001b[0m\n\u001b[0;32m    187\u001b[0m \u001b[39mwith\u001b[39;00m \u001b[39mopen\u001b[39m(config_path) \u001b[39mas\u001b[39;00m yaml_file:\n\u001b[1;32m--> 188\u001b[0m     config:\u001b[39mdict\u001b[39m \u001b[39m=\u001b[39m yaml\u001b[39m.\u001b[39;49msafe_load(yaml_file)\n\u001b[0;32m    189\u001b[0m \u001b[39mreturn\u001b[39;00m config\n",
      "File \u001b[1;32md:\\ML Projects\\house_price_prediction\\venv\\lib\\site-packages\\yaml\\__init__.py:162\u001b[0m, in \u001b[0;36msafe_load\u001b[1;34m(stream)\u001b[0m\n\u001b[0;32m    155\u001b[0m \u001b[39m\"\"\"\u001b[39;00m\n\u001b[0;32m    156\u001b[0m \u001b[39mParse the first YAML document in a stream\u001b[39;00m\n\u001b[0;32m    157\u001b[0m \u001b[39mand produce the corresponding Python object.\u001b[39;00m\n\u001b[1;32m   (...)\u001b[0m\n\u001b[0;32m    160\u001b[0m \u001b[39mto be safe for untrusted input.\u001b[39;00m\n\u001b[0;32m    161\u001b[0m \u001b[39m\"\"\"\u001b[39;00m\n\u001b[1;32m--> 162\u001b[0m \u001b[39mreturn\u001b[39;00m load(stream, SafeLoader)\n",
      "File \u001b[1;32md:\\ML Projects\\house_price_prediction\\venv\\lib\\site-packages\\yaml\\__init__.py:114\u001b[0m, in \u001b[0;36mload\u001b[1;34m(stream, Loader)\u001b[0m\n\u001b[0;32m    113\u001b[0m \u001b[39mtry\u001b[39;00m:\n\u001b[1;32m--> 114\u001b[0m     \u001b[39mreturn\u001b[39;00m loader\u001b[39m.\u001b[39;49mget_single_data()\n\u001b[0;32m    115\u001b[0m \u001b[39mfinally\u001b[39;00m:\n",
      "File \u001b[1;32md:\\ML Projects\\house_price_prediction\\venv\\lib\\site-packages\\yaml\\constructor.py:49\u001b[0m, in \u001b[0;36mBaseConstructor.get_single_data\u001b[1;34m(self)\u001b[0m\n\u001b[0;32m     47\u001b[0m \u001b[39mdef\u001b[39;00m \u001b[39mget_single_data\u001b[39m(\u001b[39mself\u001b[39m):\n\u001b[0;32m     48\u001b[0m     \u001b[39m# Ensure that the stream contains a single document and construct it.\u001b[39;00m\n\u001b[1;32m---> 49\u001b[0m     node \u001b[39m=\u001b[39m \u001b[39mself\u001b[39;49m\u001b[39m.\u001b[39;49mget_single_node()\n\u001b[0;32m     50\u001b[0m     \u001b[39mif\u001b[39;00m node \u001b[39mis\u001b[39;00m \u001b[39mnot\u001b[39;00m \u001b[39mNone\u001b[39;00m:\n",
      "File \u001b[1;32md:\\ML Projects\\house_price_prediction\\venv\\lib\\site-packages\\yaml\\composer.py:36\u001b[0m, in \u001b[0;36mComposer.get_single_node\u001b[1;34m(self)\u001b[0m\n\u001b[0;32m     35\u001b[0m \u001b[39mif\u001b[39;00m \u001b[39mnot\u001b[39;00m \u001b[39mself\u001b[39m\u001b[39m.\u001b[39mcheck_event(StreamEndEvent):\n\u001b[1;32m---> 36\u001b[0m     document \u001b[39m=\u001b[39m \u001b[39mself\u001b[39;49m\u001b[39m.\u001b[39;49mcompose_document()\n\u001b[0;32m     38\u001b[0m \u001b[39m# Ensure that the stream contains no more documents.\u001b[39;00m\n",
      "File \u001b[1;32md:\\ML Projects\\house_price_prediction\\venv\\lib\\site-packages\\yaml\\composer.py:55\u001b[0m, in \u001b[0;36mComposer.compose_document\u001b[1;34m(self)\u001b[0m\n\u001b[0;32m     54\u001b[0m \u001b[39m# Compose the root node.\u001b[39;00m\n\u001b[1;32m---> 55\u001b[0m node \u001b[39m=\u001b[39m \u001b[39mself\u001b[39;49m\u001b[39m.\u001b[39;49mcompose_node(\u001b[39mNone\u001b[39;49;00m, \u001b[39mNone\u001b[39;49;00m)\n\u001b[0;32m     57\u001b[0m \u001b[39m# Drop the DOCUMENT-END event.\u001b[39;00m\n",
      "File \u001b[1;32md:\\ML Projects\\house_price_prediction\\venv\\lib\\site-packages\\yaml\\composer.py:84\u001b[0m, in \u001b[0;36mComposer.compose_node\u001b[1;34m(self, parent, index)\u001b[0m\n\u001b[0;32m     83\u001b[0m \u001b[39melif\u001b[39;00m \u001b[39mself\u001b[39m\u001b[39m.\u001b[39mcheck_event(MappingStartEvent):\n\u001b[1;32m---> 84\u001b[0m     node \u001b[39m=\u001b[39m \u001b[39mself\u001b[39;49m\u001b[39m.\u001b[39;49mcompose_mapping_node(anchor)\n\u001b[0;32m     85\u001b[0m \u001b[39mself\u001b[39m\u001b[39m.\u001b[39mascend_resolver()\n",
      "File \u001b[1;32md:\\ML Projects\\house_price_prediction\\venv\\lib\\site-packages\\yaml\\composer.py:127\u001b[0m, in \u001b[0;36mComposer.compose_mapping_node\u001b[1;34m(self, anchor)\u001b[0m\n\u001b[0;32m    126\u001b[0m     \u001b[39mself\u001b[39m\u001b[39m.\u001b[39manchors[anchor] \u001b[39m=\u001b[39m node\n\u001b[1;32m--> 127\u001b[0m \u001b[39mwhile\u001b[39;00m \u001b[39mnot\u001b[39;00m \u001b[39mself\u001b[39;49m\u001b[39m.\u001b[39;49mcheck_event(MappingEndEvent):\n\u001b[0;32m    128\u001b[0m     \u001b[39m#key_event = self.peek_event()\u001b[39;00m\n\u001b[0;32m    129\u001b[0m     item_key \u001b[39m=\u001b[39m \u001b[39mself\u001b[39m\u001b[39m.\u001b[39mcompose_node(node, \u001b[39mNone\u001b[39;00m)\n",
      "File \u001b[1;32md:\\ML Projects\\house_price_prediction\\venv\\lib\\site-packages\\yaml\\parser.py:98\u001b[0m, in \u001b[0;36mParser.check_event\u001b[1;34m(self, *choices)\u001b[0m\n\u001b[0;32m     97\u001b[0m     \u001b[39mif\u001b[39;00m \u001b[39mself\u001b[39m\u001b[39m.\u001b[39mstate:\n\u001b[1;32m---> 98\u001b[0m         \u001b[39mself\u001b[39m\u001b[39m.\u001b[39mcurrent_event \u001b[39m=\u001b[39m \u001b[39mself\u001b[39;49m\u001b[39m.\u001b[39;49mstate()\n\u001b[0;32m     99\u001b[0m \u001b[39mif\u001b[39;00m \u001b[39mself\u001b[39m\u001b[39m.\u001b[39mcurrent_event \u001b[39mis\u001b[39;00m \u001b[39mnot\u001b[39;00m \u001b[39mNone\u001b[39;00m:\n",
      "File \u001b[1;32md:\\ML Projects\\house_price_prediction\\venv\\lib\\site-packages\\yaml\\parser.py:438\u001b[0m, in \u001b[0;36mParser.parse_block_mapping_key\u001b[1;34m(self)\u001b[0m\n\u001b[0;32m    437\u001b[0m     token \u001b[39m=\u001b[39m \u001b[39mself\u001b[39m\u001b[39m.\u001b[39mpeek_token()\n\u001b[1;32m--> 438\u001b[0m     \u001b[39mraise\u001b[39;00m ParserError(\u001b[39m\"\u001b[39m\u001b[39mwhile parsing a block mapping\u001b[39m\u001b[39m\"\u001b[39m, \u001b[39mself\u001b[39m\u001b[39m.\u001b[39mmarks[\u001b[39m-\u001b[39m\u001b[39m1\u001b[39m],\n\u001b[0;32m    439\u001b[0m             \u001b[39m\"\u001b[39m\u001b[39mexpected <block end>, but found \u001b[39m\u001b[39m%r\u001b[39;00m\u001b[39m\"\u001b[39m \u001b[39m%\u001b[39m token\u001b[39m.\u001b[39mid, token\u001b[39m.\u001b[39mstart_mark)\n\u001b[0;32m    440\u001b[0m token \u001b[39m=\u001b[39m \u001b[39mself\u001b[39m\u001b[39m.\u001b[39mget_token()\n",
      "\u001b[1;31mParserError\u001b[0m: while parsing a block mapping\n  in \"D:\\ML Projects\\house_price_prediction\\config\\model.yaml\", line 1, column 1\nexpected <block end>, but found '<block mapping start>'\n  in \"D:\\ML Projects\\house_price_prediction\\config\\model.yaml\", line 19, column 2",
      "\nThe above exception was the direct cause of the following exception:\n",
      "\u001b[1;31mExceptionHendler\u001b[0m                          Traceback (most recent call last)",
      "File \u001b[1;32md:\\ML Projects\\house_price_prediction\\housing\\entity\\model_factory.py:157\u001b[0m, in \u001b[0;36mModelFactory.__init__\u001b[1;34m(self, model_config_path)\u001b[0m\n\u001b[0;32m    156\u001b[0m \u001b[39mtry\u001b[39;00m:\n\u001b[1;32m--> 157\u001b[0m     \u001b[39mself\u001b[39m\u001b[39m.\u001b[39mconfig: \u001b[39mdict\u001b[39m \u001b[39m=\u001b[39m ModelFactory\u001b[39m.\u001b[39;49mread_params(model_config_path)\n\u001b[0;32m    159\u001b[0m     \u001b[39mself\u001b[39m\u001b[39m.\u001b[39mgrid_search_cv_module: \u001b[39mstr\u001b[39m \u001b[39m=\u001b[39m \u001b[39mself\u001b[39m\u001b[39m.\u001b[39mconfig[GRID_SEARCH_KEY][MODULE_KEY]\n",
      "File \u001b[1;32md:\\ML Projects\\house_price_prediction\\housing\\entity\\model_factory.py:191\u001b[0m, in \u001b[0;36mModelFactory.read_params\u001b[1;34m(config_path)\u001b[0m\n\u001b[0;32m    190\u001b[0m \u001b[39mexcept\u001b[39;00m \u001b[39mException\u001b[39;00m \u001b[39mas\u001b[39;00m e:\n\u001b[1;32m--> 191\u001b[0m     \u001b[39mraise\u001b[39;00m ExceptionHendler(e, sys) \u001b[39mfrom\u001b[39;00m \u001b[39me\u001b[39;00m\n",
      "\u001b[1;31mExceptionHendler\u001b[0m: error occure in file : [d:\\ML Projects\\house_price_prediction\\housing\\entity\\model_factory.py]\n        at Try block line Number : [188] and\n        Exception_block_line_number : [191]\n          Error_message is : [while parsing a block mapping\n  in \"D:\\ML Projects\\house_price_prediction\\config\\model.yaml\", line 1, column 1\nexpected <block end>, but found '<block mapping start>'\n  in \"D:\\ML Projects\\house_price_prediction\\config\\model.yaml\", line 19, column 2]        \n        ",
      "\nThe above exception was the direct cause of the following exception:\n",
      "\u001b[1;31mExceptionHendler\u001b[0m                          Traceback (most recent call last)",
      "\u001b[1;32md:\\ML Projects\\house_price_prediction\\notebook\\example5.ipynb Cell 6\u001b[0m in \u001b[0;36m<cell line: 1>\u001b[1;34m()\u001b[0m\n\u001b[1;32m----> <a href='vscode-notebook-cell:/d%3A/ML%20Projects/house_price_prediction/notebook/example5.ipynb#ch0000036?line=0'>1</a>\u001b[0m model_factory \u001b[39m=\u001b[39m ModelFactory(model_config_path \u001b[39m=\u001b[39;49m model_config_file)\n",
      "File \u001b[1;32md:\\ML Projects\\house_price_prediction\\housing\\entity\\model_factory.py:169\u001b[0m, in \u001b[0;36mModelFactory.__init__\u001b[1;34m(self, model_config_path)\u001b[0m\n\u001b[0;32m    166\u001b[0m     \u001b[39mself\u001b[39m\u001b[39m.\u001b[39mgrid_searched_best_model_list \u001b[39m=\u001b[39m \u001b[39mNone\u001b[39;00m\n\u001b[0;32m    168\u001b[0m \u001b[39mexcept\u001b[39;00m \u001b[39mException\u001b[39;00m \u001b[39mas\u001b[39;00m e:\n\u001b[1;32m--> 169\u001b[0m     \u001b[39mraise\u001b[39;00m ExceptionHendler(e, sys) \u001b[39mfrom\u001b[39;00m \u001b[39me\u001b[39;00m\n",
      "\u001b[1;31mExceptionHendler\u001b[0m: error occure in file : [d:\\ML Projects\\house_price_prediction\\housing\\entity\\model_factory.py]\n        at Try block line Number : [157] and\n        Exception_block_line_number : [169]\n          Error_message is : [error occure in file : [d:\\ML Projects\\house_price_prediction\\housing\\entity\\model_factory.py]\n        at Try block line Number : [188] and\n        Exception_block_line_number : [191]\n          Error_message is : [while parsing a block mapping\n  in \"D:\\ML Projects\\house_price_prediction\\config\\model.yaml\", line 1, column 1\nexpected <block end>, but found '<block mapping start>'\n  in \"D:\\ML Projects\\house_price_prediction\\config\\model.yaml\", line 19, column 2]        \n        ]        \n        "
     ]
    }
   ],
   "source": [
    "model_factory = ModelFactory(model_config_path = model_config_file)"
   ]
  },
  {
   "cell_type": "code",
   "execution_count": null,
   "metadata": {},
   "outputs": [],
   "source": [
    "from housing.config.configuration import Configuration"
   ]
  },
  {
   "cell_type": "code",
   "execution_count": null,
   "metadata": {},
   "outputs": [],
   "source": [
    "config = Configuration()"
   ]
  },
  {
   "cell_type": "code",
   "execution_count": null,
   "metadata": {},
   "outputs": [],
   "source": [
    "data_ingestion_config = config.get_data_ingestion_config()"
   ]
  },
  {
   "cell_type": "code",
   "execution_count": null,
   "metadata": {},
   "outputs": [],
   "source": [
    "data_ingestion_config"
   ]
  },
  {
   "cell_type": "code",
   "execution_count": null,
   "metadata": {},
   "outputs": [],
   "source": [
    "download_url = data_ingestion_config.dataset_download_url"
   ]
  },
  {
   "cell_type": "code",
   "execution_count": null,
   "metadata": {},
   "outputs": [],
   "source": [
    "download_url"
   ]
  },
  {
   "cell_type": "code",
   "execution_count": null,
   "metadata": {},
   "outputs": [],
   "source": [
    "housing_file_name = os.path.basename(download_url)"
   ]
  },
  {
   "cell_type": "code",
   "execution_count": null,
   "metadata": {},
   "outputs": [],
   "source": [
    "housing_file_name"
   ]
  },
  {
   "cell_type": "code",
   "execution_count": null,
   "metadata": {},
   "outputs": [],
   "source": [
    "tgz_download_dir = data_ingestion_config.tgz_download_dir"
   ]
  },
  {
   "cell_type": "code",
   "execution_count": null,
   "metadata": {},
   "outputs": [],
   "source": [
    "tgz_download_dir"
   ]
  },
  {
   "cell_type": "code",
   "execution_count": null,
   "metadata": {},
   "outputs": [],
   "source": [
    "tgz_file_path = os.path.join(tgz_download_dir,housing_file_name)"
   ]
  },
  {
   "cell_type": "code",
   "execution_count": null,
   "metadata": {},
   "outputs": [],
   "source": [
    "from six.moves import urllib\n",
    "from housing.logger import logging"
   ]
  },
  {
   "cell_type": "code",
   "execution_count": null,
   "metadata": {},
   "outputs": [],
   "source": [
    "urllib.request.urlretrieve(download_url,tgz_file_path)\n",
    "logging.info(f\"file: [{tgz_file_path}] has been downloaded successfully.\")"
   ]
  },
  {
   "cell_type": "code",
   "execution_count": null,
   "metadata": {},
   "outputs": [],
   "source": [
    "tgz_file_path"
   ]
  },
  {
   "cell_type": "code",
   "execution_count": null,
   "metadata": {},
   "outputs": [],
   "source": [
    "from housing.component.data_ingestion import DataIngestion"
   ]
  },
  {
   "cell_type": "code",
   "execution_count": null,
   "metadata": {},
   "outputs": [],
   "source": [
    "data_ingestion = DataIngestion(data_ingestion_config)"
   ]
  },
  {
   "cell_type": "code",
   "execution_count": null,
   "metadata": {},
   "outputs": [],
   "source": [
    "data_ingestion.download_dataset_from_url()"
   ]
  },
  {
   "cell_type": "code",
   "execution_count": null,
   "metadata": {},
   "outputs": [],
   "source": [
    "data_ingestion_artifact = data_ingestion.initiate_data_ingestion()"
   ]
  },
  {
   "cell_type": "code",
   "execution_count": null,
   "metadata": {},
   "outputs": [],
   "source": [
    "data_validation_config = config.get_data_validation_config()"
   ]
  },
  {
   "cell_type": "code",
   "execution_count": null,
   "metadata": {},
   "outputs": [],
   "source": [
    "data_validation_config.report_file_path"
   ]
  },
  {
   "cell_type": "code",
   "execution_count": null,
   "metadata": {},
   "outputs": [],
   "source": [
    "from housing.component.data_validation import DataValidation"
   ]
  },
  {
   "cell_type": "code",
   "execution_count": null,
   "metadata": {},
   "outputs": [],
   "source": [
    "data_validation = DataValidation(data_validation_config,data_ingestion_artifact)"
   ]
  },
  {
   "cell_type": "code",
   "execution_count": null,
   "metadata": {},
   "outputs": [],
   "source": [
    "data_validation.is_data_drift_found()"
   ]
  },
  {
   "cell_type": "code",
   "execution_count": null,
   "metadata": {},
   "outputs": [],
   "source": [
    "data_validation_artifact = data_validation.initiate_data_validation()"
   ]
  },
  {
   "cell_type": "code",
   "execution_count": null,
   "metadata": {},
   "outputs": [],
   "source": [
    "data_validation_artifact"
   ]
  },
  {
   "cell_type": "code",
   "execution_count": null,
   "metadata": {},
   "outputs": [],
   "source": [
    "from housing.pipeline.pipeline import Pipeline"
   ]
  },
  {
   "cell_type": "code",
   "execution_count": null,
   "metadata": {},
   "outputs": [],
   "source": [
    "pipeline = Pipeline()"
   ]
  },
  {
   "cell_type": "code",
   "execution_count": null,
   "metadata": {},
   "outputs": [],
   "source": [
    "pipeline.run_pipeline()"
   ]
  },
  {
   "cell_type": "code",
   "execution_count": null,
   "metadata": {},
   "outputs": [],
   "source": [
    "pipeline.start_data_ingestion()"
   ]
  },
  {
   "cell_type": "code",
   "execution_count": null,
   "metadata": {},
   "outputs": [],
   "source": [
    "pipeline.config.config_info"
   ]
  },
  {
   "cell_type": "code",
   "execution_count": null,
   "metadata": {},
   "outputs": [],
   "source": [
    "pipeline.run_pipeline()"
   ]
  },
  {
   "cell_type": "code",
   "execution_count": null,
   "metadata": {},
   "outputs": [],
   "source": []
  }
 ],
 "metadata": {
  "kernelspec": {
   "display_name": "Python 3.8.0 64-bit ('venv')",
   "language": "python",
   "name": "python3"
  },
  "language_info": {
   "codemirror_mode": {
    "name": "ipython",
    "version": 3
   },
   "file_extension": ".py",
   "mimetype": "text/x-python",
   "name": "python",
   "nbconvert_exporter": "python",
   "pygments_lexer": "ipython3",
   "version": "3.8.0"
  },
  "orig_nbformat": 4,
  "vscode": {
   "interpreter": {
    "hash": "0fd6d81f1e5272f29fb2ced79108f36eae0dd168f0f3af2056730384b76497e9"
   }
  }
 },
 "nbformat": 4,
 "nbformat_minor": 2
}
