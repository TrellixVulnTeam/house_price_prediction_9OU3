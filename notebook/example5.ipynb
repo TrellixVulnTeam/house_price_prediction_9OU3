{
 "cells": [
  {
   "cell_type": "code",
   "execution_count": 1,
   "metadata": {},
   "outputs": [],
   "source": [
    "import os"
   ]
  },
  {
   "cell_type": "code",
   "execution_count": 2,
   "metadata": {},
   "outputs": [
    {
     "data": {
      "text/plain": [
       "'d:\\\\ML Projects\\\\house_price_prediction\\\\notebook'"
      ]
     },
     "execution_count": 2,
     "metadata": {},
     "output_type": "execute_result"
    }
   ],
   "source": [
    "os.getcwd()"
   ]
  },
  {
   "cell_type": "code",
   "execution_count": 3,
   "metadata": {},
   "outputs": [],
   "source": [
    "os.chdir(\"d:\\\\ML Projects\\\\house_price_prediction\")"
   ]
  },
  {
   "cell_type": "code",
   "execution_count": 4,
   "metadata": {},
   "outputs": [],
   "source": [
    "from housing.config.configuration import Configuration"
   ]
  },
  {
   "cell_type": "code",
   "execution_count": 5,
   "metadata": {},
   "outputs": [],
   "source": [
    "config = Configuration()"
   ]
  },
  {
   "cell_type": "code",
   "execution_count": 6,
   "metadata": {},
   "outputs": [],
   "source": [
    "data_ingestion_config = config.get_data_ingestion_config()"
   ]
  },
  {
   "cell_type": "code",
   "execution_count": 7,
   "metadata": {},
   "outputs": [
    {
     "data": {
      "text/plain": [
       "DataIngestionConfig(dataset_download_url='https://raw.githubusercontent.com/ageron/handson-ml/master/datasets/housing/housing.tgz', raw_data_dir='d:\\\\ML Projects\\\\house_price_prediction\\\\housing\\\\artifact\\\\data_ingestion\\\\2022-07-12_11-20-30\\\\raw_data', tgz_download_dir='d:\\\\ML Projects\\\\house_price_prediction\\\\housing\\\\artifact\\\\data_ingestion\\\\2022-07-12_11-20-30\\\\tgz_data', ingested_dir='d:\\\\ML Projects\\\\house_price_prediction\\\\housing\\\\artifact\\\\data_ingestion\\\\2022-07-12_11-20-30\\\\ingested_data', ingested_train_dir='d:\\\\ML Projects\\\\house_price_prediction\\\\housing\\\\artifact\\\\data_ingestion\\\\2022-07-12_11-20-30\\\\ingested_data\\\\train', ingested_test_dir='d:\\\\ML Projects\\\\house_price_prediction\\\\housing\\\\artifact\\\\data_ingestion\\\\2022-07-12_11-20-30\\\\ingested_data\\\\test')"
      ]
     },
     "execution_count": 7,
     "metadata": {},
     "output_type": "execute_result"
    }
   ],
   "source": [
    "data_ingestion_config"
   ]
  },
  {
   "cell_type": "code",
   "execution_count": 8,
   "metadata": {},
   "outputs": [],
   "source": [
    "download_url = data_ingestion_config.dataset_download_url"
   ]
  },
  {
   "cell_type": "code",
   "execution_count": 9,
   "metadata": {},
   "outputs": [
    {
     "data": {
      "text/plain": [
       "'https://raw.githubusercontent.com/ageron/handson-ml/master/datasets/housing/housing.tgz'"
      ]
     },
     "execution_count": 9,
     "metadata": {},
     "output_type": "execute_result"
    }
   ],
   "source": [
    "download_url"
   ]
  },
  {
   "cell_type": "code",
   "execution_count": 10,
   "metadata": {},
   "outputs": [],
   "source": [
    "housing_file_name = os.path.basename(download_url)"
   ]
  },
  {
   "cell_type": "code",
   "execution_count": 11,
   "metadata": {},
   "outputs": [
    {
     "data": {
      "text/plain": [
       "'housing.tgz'"
      ]
     },
     "execution_count": 11,
     "metadata": {},
     "output_type": "execute_result"
    }
   ],
   "source": [
    "housing_file_name"
   ]
  },
  {
   "cell_type": "code",
   "execution_count": 12,
   "metadata": {},
   "outputs": [],
   "source": [
    "tgz_download_dir = data_ingestion_config.tgz_download_dir"
   ]
  },
  {
   "cell_type": "code",
   "execution_count": 13,
   "metadata": {},
   "outputs": [
    {
     "data": {
      "text/plain": [
       "'d:\\\\ML Projects\\\\house_price_prediction\\\\housing\\\\artifact\\\\data_ingestion\\\\2022-07-12_11-20-30\\\\tgz_data'"
      ]
     },
     "execution_count": 13,
     "metadata": {},
     "output_type": "execute_result"
    }
   ],
   "source": [
    "tgz_download_dir"
   ]
  },
  {
   "cell_type": "code",
   "execution_count": 14,
   "metadata": {},
   "outputs": [],
   "source": [
    "tgz_file_path = os.path.join(tgz_download_dir,housing_file_name)"
   ]
  },
  {
   "cell_type": "code",
   "execution_count": 15,
   "metadata": {},
   "outputs": [],
   "source": [
    "from six.moves import urllib\n",
    "from housing.logger import logging"
   ]
  },
  {
   "cell_type": "code",
   "execution_count": null,
   "metadata": {},
   "outputs": [],
   "source": [
    "urllib.request.urlretrieve(download_url,tgz_file_path)\n",
    "logging.info(f\"file: [{tgz_file_path}] has been downloaded successfully.\")"
   ]
  },
  {
   "cell_type": "code",
   "execution_count": null,
   "metadata": {},
   "outputs": [],
   "source": [
    "tgz_file_path"
   ]
  },
  {
   "cell_type": "code",
   "execution_count": 16,
   "metadata": {},
   "outputs": [],
   "source": [
    "from housing.component.data_ingestion import DataIngestion"
   ]
  },
  {
   "cell_type": "code",
   "execution_count": 17,
   "metadata": {},
   "outputs": [],
   "source": [
    "data_ingestion = DataIngestion(data_ingestion_config)"
   ]
  },
  {
   "cell_type": "code",
   "execution_count": 18,
   "metadata": {},
   "outputs": [
    {
     "data": {
      "text/plain": [
       "'d:\\\\ML Projects\\\\house_price_prediction\\\\housing\\\\artifact\\\\data_ingestion\\\\2022-07-12_11-20-30\\\\tgz_data\\\\housing.tgz'"
      ]
     },
     "execution_count": 18,
     "metadata": {},
     "output_type": "execute_result"
    }
   ],
   "source": [
    "data_ingestion.download_dataset_from_url()"
   ]
  },
  {
   "cell_type": "code",
   "execution_count": 19,
   "metadata": {},
   "outputs": [],
   "source": [
    "data_ingestion_artifact = data_ingestion.initiate_data_ingestion()"
   ]
  },
  {
   "cell_type": "code",
   "execution_count": 22,
   "metadata": {},
   "outputs": [],
   "source": [
    "data_validation_config = config.get_data_validation_config()"
   ]
  },
  {
   "cell_type": "code",
   "execution_count": 23,
   "metadata": {},
   "outputs": [
    {
     "data": {
      "text/plain": [
       "'d:\\\\ML Projects\\\\house_price_prediction\\\\housing\\\\artifact\\\\data-validation\\\\2022-07-12_11-20-30\\\\report.json'"
      ]
     },
     "execution_count": 23,
     "metadata": {},
     "output_type": "execute_result"
    }
   ],
   "source": [
    "data_validation_config.report_file_path"
   ]
  },
  {
   "cell_type": "code",
   "execution_count": 24,
   "metadata": {},
   "outputs": [],
   "source": [
    "from housing.component.data_validation import DataValidation"
   ]
  },
  {
   "cell_type": "code",
   "execution_count": 25,
   "metadata": {},
   "outputs": [],
   "source": [
    "data_validation = DataValidation(data_validation_config,data_ingestion_artifact)"
   ]
  },
  {
   "cell_type": "code",
   "execution_count": 26,
   "metadata": {},
   "outputs": [
    {
     "data": {
      "text/plain": [
       "True"
      ]
     },
     "execution_count": 26,
     "metadata": {},
     "output_type": "execute_result"
    }
   ],
   "source": [
    "data_validation.is_data_drift_found()"
   ]
  },
  {
   "cell_type": "code",
   "execution_count": 27,
   "metadata": {},
   "outputs": [],
   "source": [
    "data_validation_artifact = data_validation.initiate_data_validation()"
   ]
  },
  {
   "cell_type": "code",
   "execution_count": 28,
   "metadata": {},
   "outputs": [
    {
     "data": {
      "text/plain": [
       "DataValidationArtifact(schema_file_path='d:\\\\ML Projects\\\\house_price_prediction\\\\config\\\\schema.yaml', report_file_path='d:\\\\ML Projects\\\\house_price_prediction\\\\housing\\\\artifact\\\\data-validation\\\\2022-07-12_11-20-30\\\\report.json', report_page_file_path='d:\\\\ML Projects\\\\house_price_prediction\\\\housing\\\\artifact\\\\data-validation\\\\2022-07-12_11-20-30\\\\report.html', is_validated=True, message='Data validation Performed Successfuly')"
      ]
     },
     "execution_count": 28,
     "metadata": {},
     "output_type": "execute_result"
    }
   ],
   "source": [
    "data_validation_artifact"
   ]
  },
  {
   "cell_type": "code",
   "execution_count": 35,
   "metadata": {},
   "outputs": [],
   "source": [
    "from housing.pipeline.pipeline import Pipeline"
   ]
  },
  {
   "cell_type": "code",
   "execution_count": 36,
   "metadata": {},
   "outputs": [],
   "source": [
    "pipeline = Pipeline()"
   ]
  },
  {
   "cell_type": "code",
   "execution_count": 37,
   "metadata": {},
   "outputs": [
    {
     "data": {
      "text/plain": [
       "(DataIngestionArtifact(train_file_path='d:\\\\ML Projects\\\\house_price_prediction\\\\housing\\\\artifact\\\\data_ingestion\\\\2022-07-12_11-20-30\\\\ingested_data\\\\train\\\\housing.csv', test_file_path='d:\\\\ML Projects\\\\house_price_prediction\\\\housing\\\\artifact\\\\data_ingestion\\\\2022-07-12_11-20-30\\\\ingested_data\\\\test\\\\housing.csv', is_ingested=True, message='Data Ingestion completed successfully'),\n",
       " DataValidationArtifact(schema_file_path='d:\\\\ML Projects\\\\house_price_prediction\\\\config\\\\schema.yaml', report_file_path='d:\\\\ML Projects\\\\house_price_prediction\\\\housing\\\\artifact\\\\data-validation\\\\2022-07-12_11-20-30\\\\report.json', report_page_file_path='d:\\\\ML Projects\\\\house_price_prediction\\\\housing\\\\artifact\\\\data-validation\\\\2022-07-12_11-20-30\\\\report.html', is_validated=True, message='Data validation Performed Successfuly'))"
      ]
     },
     "execution_count": 37,
     "metadata": {},
     "output_type": "execute_result"
    }
   ],
   "source": [
    "pipeline.run_pipeline()"
   ]
  },
  {
   "cell_type": "code",
   "execution_count": 38,
   "metadata": {},
   "outputs": [
    {
     "data": {
      "text/plain": [
       "DataIngestionArtifact(train_file_path='d:\\\\ML Projects\\\\house_price_prediction\\\\housing\\\\artifact\\\\data_ingestion\\\\2022-07-12_11-20-30\\\\ingested_data\\\\train\\\\housing.csv', test_file_path='d:\\\\ML Projects\\\\house_price_prediction\\\\housing\\\\artifact\\\\data_ingestion\\\\2022-07-12_11-20-30\\\\ingested_data\\\\test\\\\housing.csv', is_ingested=True, message='Data Ingestion completed successfully')"
      ]
     },
     "execution_count": 38,
     "metadata": {},
     "output_type": "execute_result"
    }
   ],
   "source": [
    "pipeline.start_data_ingestion()"
   ]
  },
  {
   "cell_type": "code",
   "execution_count": 33,
   "metadata": {},
   "outputs": [
    {
     "data": {
      "text/plain": [
       "{'training_pipeline_config': {'pipeline_name': 'housing',\n",
       "  'artifact_dir': 'artifact'},\n",
       " 'data_ingestion_config': {'dataset_download_url': 'https://raw.githubusercontent.com/ageron/handson-ml/master/datasets/housing/housing.tgz',\n",
       "  'raw_data_dir': 'raw_data',\n",
       "  'tgz_download_dir': 'tgz_data',\n",
       "  'ingested_dir': 'ingested_data',\n",
       "  'ingested_train_dir': 'train',\n",
       "  'ingested_test_dir': 'test'},\n",
       " 'data_validation_config': {'schema_dir': 'config',\n",
       "  'schema_file_name': 'schema.yaml',\n",
       "  'report_file_name': 'report.json',\n",
       "  'report_page_file_name': 'report.html'},\n",
       " 'data_transformation_config': {'add_bedroom_per_room': True,\n",
       "  'transformed_dir': 'transformed_data',\n",
       "  'transformed_train_dir': 'train',\n",
       "  'transformed_test_dir': 'test',\n",
       "  'preprocessing_dir': 'preprocessed',\n",
       "  'preprocessed_object_file_name': 'preprocessed.pkl'},\n",
       " 'model_trainer_config': {'trained_model_dir': 'trained_model',\n",
       "  'model_file_name': 'model.pkl',\n",
       "  'base_accuracy': 0.6},\n",
       " 'model_evaluation_config': {'model_evaluation_file_name': 'model_evaluation.yaml'},\n",
       " 'model_pusher_config': {'model_export_dir': 'saved_models'}}"
      ]
     },
     "execution_count": 33,
     "metadata": {},
     "output_type": "execute_result"
    }
   ],
   "source": [
    "pipeline.config.config_info"
   ]
  },
  {
   "cell_type": "code",
   "execution_count": 39,
   "metadata": {},
   "outputs": [
    {
     "data": {
      "text/plain": [
       "(DataIngestionArtifact(train_file_path='d:\\\\ML Projects\\\\house_price_prediction\\\\housing\\\\artifact\\\\data_ingestion\\\\2022-07-12_11-20-30\\\\ingested_data\\\\train\\\\housing.csv', test_file_path='d:\\\\ML Projects\\\\house_price_prediction\\\\housing\\\\artifact\\\\data_ingestion\\\\2022-07-12_11-20-30\\\\ingested_data\\\\test\\\\housing.csv', is_ingested=True, message='Data Ingestion completed successfully'),\n",
       " DataValidationArtifact(schema_file_path='d:\\\\ML Projects\\\\house_price_prediction\\\\config\\\\schema.yaml', report_file_path='d:\\\\ML Projects\\\\house_price_prediction\\\\housing\\\\artifact\\\\data-validation\\\\2022-07-12_11-20-30\\\\report.json', report_page_file_path='d:\\\\ML Projects\\\\house_price_prediction\\\\housing\\\\artifact\\\\data-validation\\\\2022-07-12_11-20-30\\\\report.html', is_validated=True, message='Data validation Performed Successfuly'))"
      ]
     },
     "execution_count": 39,
     "metadata": {},
     "output_type": "execute_result"
    }
   ],
   "source": [
    "pipeline.run_pipeline()"
   ]
  },
  {
   "cell_type": "code",
   "execution_count": null,
   "metadata": {},
   "outputs": [],
   "source": []
  }
 ],
 "metadata": {
  "kernelspec": {
   "display_name": "Python 3.8.0 64-bit ('venv')",
   "language": "python",
   "name": "python3"
  },
  "language_info": {
   "codemirror_mode": {
    "name": "ipython",
    "version": 3
   },
   "file_extension": ".py",
   "mimetype": "text/x-python",
   "name": "python",
   "nbconvert_exporter": "python",
   "pygments_lexer": "ipython3",
   "version": "3.8.0"
  },
  "orig_nbformat": 4,
  "vscode": {
   "interpreter": {
    "hash": "0fd6d81f1e5272f29fb2ced79108f36eae0dd168f0f3af2056730384b76497e9"
   }
  }
 },
 "nbformat": 4,
 "nbformat_minor": 2
}
