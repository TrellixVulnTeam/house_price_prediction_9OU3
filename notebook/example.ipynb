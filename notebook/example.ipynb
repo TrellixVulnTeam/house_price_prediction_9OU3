{
 "cells": [
  {
   "cell_type": "code",
   "execution_count": null,
   "metadata": {},
   "outputs": [],
   "source": [
    "from collections import namedtuple"
   ]
  },
  {
   "cell_type": "code",
   "execution_count": null,
   "metadata": {},
   "outputs": [],
   "source": [
    "import os"
   ]
  },
  {
   "cell_type": "code",
   "execution_count": null,
   "metadata": {},
   "outputs": [],
   "source": [
    "os.getcwd()"
   ]
  },
  {
   "cell_type": "code",
   "execution_count": null,
   "metadata": {},
   "outputs": [],
   "source": [
    "import sys"
   ]
  },
  {
   "cell_type": "code",
   "execution_count": null,
   "metadata": {},
   "outputs": [],
   "source": [
    "os.getcwd()"
   ]
  },
  {
   "cell_type": "code",
   "execution_count": null,
   "metadata": {},
   "outputs": [],
   "source": [
    "os.chdir(\"d:\\\\ML Projects\\\\house_price_prediction\")"
   ]
  },
  {
   "cell_type": "code",
   "execution_count": null,
   "metadata": {},
   "outputs": [],
   "source": [
    "os.getcwd()"
   ]
  },
  {
   "cell_type": "code",
   "execution_count": null,
   "metadata": {},
   "outputs": [],
   "source": [
    "from Preactice.practice1 import logging"
   ]
  },
  {
   "cell_type": "code",
   "execution_count": null,
   "metadata": {},
   "outputs": [],
   "source": [
    "class Famile:\n",
    "     \n",
    "    logging.info(\"Creating a class name Family\")\n",
    "    def __init__(self,name,age,health):\n",
    "        \n",
    "        self.name = name\n",
    "        self.age = age\n",
    "        self.health = health\n",
    "        logging.info(\"init constructor working properly\")\n",
    "    def GrandParent(self):\n",
    "        logging.info(\"Created a method inside Famil class\")\n",
    "        try:\n",
    "            raise Excepsion_hendler(\"This is a self generated Exception to check Exception hendler\")\n",
    "            logging.info(\"This function will return the data for Grandparent of family\")\n",
    "            return \"Hello my name is Piter and you can get my data here\"\n",
    "            #raise Exc(\"This is self generated exception\")\n",
    "        except Exception as e:\n",
    "            housing = Excepsion_hendler(e,sys)\n",
    "            logging.info(housing.error_message)\n",
    "            "
   ]
  },
  {
   "cell_type": "code",
   "execution_count": null,
   "metadata": {},
   "outputs": [],
   "source": [
    "inform = Famile(\"Piter\",78,\"Good\")"
   ]
  },
  {
   "cell_type": "code",
   "execution_count": null,
   "metadata": {},
   "outputs": [],
   "source": [
    "inform.health"
   ]
  },
  {
   "cell_type": "code",
   "execution_count": null,
   "metadata": {},
   "outputs": [],
   "source": [
    "inform.age"
   ]
  },
  {
   "cell_type": "code",
   "execution_count": null,
   "metadata": {},
   "outputs": [],
   "source": [
    "inform.name"
   ]
  },
  {
   "cell_type": "code",
   "execution_count": null,
   "metadata": {},
   "outputs": [],
   "source": [
    "inform.GrandParent()"
   ]
  },
  {
   "cell_type": "markdown",
   "metadata": {},
   "source": []
  },
  {
   "cell_type": "markdown",
   "metadata": {},
   "source": []
  },
  {
   "cell_type": "code",
   "execution_count": null,
   "metadata": {},
   "outputs": [],
   "source": [
    "os.getcwd()"
   ]
  },
  {
   "cell_type": "code",
   "execution_count": null,
   "metadata": {},
   "outputs": [],
   "source": [
    "import sys"
   ]
  },
  {
   "cell_type": "code",
   "execution_count": null,
   "metadata": {},
   "outputs": [],
   "source": [
    "from Preactice.practice2_exc import Excepsion_hendler"
   ]
  },
  {
   "cell_type": "code",
   "execution_count": null,
   "metadata": {},
   "outputs": [],
   "source": [
    "from Preactice.practice3 import HousingException"
   ]
  },
  {
   "cell_type": "code",
   "execution_count": null,
   "metadata": {},
   "outputs": [],
   "source": [
    "import sys"
   ]
  },
  {
   "cell_type": "code",
   "execution_count": null,
   "metadata": {},
   "outputs": [],
   "source": [
    "os.getcwd()"
   ]
  },
  {
   "cell_type": "code",
   "execution_count": null,
   "metadata": {},
   "outputs": [],
   "source": [
    "os.chdir(\"d:\\\\ML Projects\\\\house_price_prediction\")"
   ]
  },
  {
   "cell_type": "code",
   "execution_count": null,
   "metadata": {},
   "outputs": [],
   "source": [
    "os.getcwd()"
   ]
  },
  {
   "cell_type": "code",
   "execution_count": null,
   "metadata": {},
   "outputs": [],
   "source": [
    "os.listdir()"
   ]
  },
  {
   "cell_type": "code",
   "execution_count": null,
   "metadata": {},
   "outputs": [],
   "source": [
    "os.listdir(\"config\")"
   ]
  },
  {
   "cell_type": "code",
   "execution_count": null,
   "metadata": {},
   "outputs": [],
   "source": [
    "os.chdir(\"d:\\\\ML Projects\\\\house_price_prediction\\\\config\")"
   ]
  },
  {
   "cell_type": "code",
   "execution_count": null,
   "metadata": {},
   "outputs": [],
   "source": [
    "os.listdir()"
   ]
  },
  {
   "cell_type": "code",
   "execution_count": null,
   "metadata": {},
   "outputs": [],
   "source": [
    "config = os.path.join(\"d:\\\\ML Projects\\\\house_price_prediction\\\\config\")"
   ]
  },
  {
   "cell_type": "code",
   "execution_count": null,
   "metadata": {},
   "outputs": [],
   "source": [
    "config"
   ]
  },
  {
   "cell_type": "code",
   "execution_count": null,
   "metadata": {},
   "outputs": [],
   "source": [
    "os.listdir(config)"
   ]
  },
  {
   "cell_type": "code",
   "execution_count": null,
   "metadata": {},
   "outputs": [],
   "source": [
    "from housing.constant import *"
   ]
  },
  {
   "cell_type": "code",
   "execution_count": null,
   "metadata": {},
   "outputs": [],
   "source": [
    "config "
   ]
  },
  {
   "cell_type": "code",
   "execution_count": null,
   "metadata": {},
   "outputs": [],
   "source": [
    "os.getcwd()"
   ]
  },
  {
   "cell_type": "code",
   "execution_count": null,
   "metadata": {},
   "outputs": [],
   "source": [
    "os.chdir(\"d:\\\\ML Projects\\\\house_price_prediction\")"
   ]
  },
  {
   "cell_type": "code",
   "execution_count": null,
   "metadata": {},
   "outputs": [],
   "source": [
    "config_file_path = os.path.join(\"config\",\"config.yaml\")"
   ]
  },
  {
   "cell_type": "code",
   "execution_count": null,
   "metadata": {},
   "outputs": [],
   "source": [
    "config_file_path"
   ]
  },
  {
   "cell_type": "code",
   "execution_count": null,
   "metadata": {},
   "outputs": [],
   "source": [
    "os.path.exists(config_file_path)"
   ]
  },
  {
   "cell_type": "code",
   "execution_count": null,
   "metadata": {},
   "outputs": [],
   "source": [
    "import yaml"
   ]
  },
  {
   "cell_type": "code",
   "execution_count": null,
   "metadata": {},
   "outputs": [],
   "source": [
    "config_info = None\n",
    "with open(config_file_path,\"rb\") as f:\n",
    "    config_info = yaml.safe_load(f)"
   ]
  },
  {
   "cell_type": "code",
   "execution_count": null,
   "metadata": {},
   "outputs": [],
   "source": [
    "config_info"
   ]
  },
  {
   "cell_type": "code",
   "execution_count": null,
   "metadata": {},
   "outputs": [],
   "source": [
    "config_info[\"data_ingestion_config\"]."
   ]
  },
  {
   "cell_type": "code",
   "execution_count": null,
   "metadata": {},
   "outputs": [],
   "source": [
    "data = None\n",
    "with open(config_file_path,\"r\") as f:\n",
    "    data = f.readlines()"
   ]
  },
  {
   "cell_type": "code",
   "execution_count": null,
   "metadata": {},
   "outputs": [],
   "source": [
    "data"
   ]
  },
  {
   "cell_type": "code",
   "execution_count": null,
   "metadata": {},
   "outputs": [],
   "source": [
    "os.getcwd()"
   ]
  },
  {
   "cell_type": "code",
   "execution_count": null,
   "metadata": {},
   "outputs": [],
   "source": [
    "os.chdir(\"d:\\\\ML Projects\\\\house_price_prediction\")"
   ]
  },
  {
   "cell_type": "code",
   "execution_count": null,
   "metadata": {},
   "outputs": [],
   "source": [
    "os.getcwd()"
   ]
  },
  {
   "cell_type": "code",
   "execution_count": null,
   "metadata": {},
   "outputs": [],
   "source": [
    "os.listdir()"
   ]
  },
  {
   "cell_type": "code",
   "execution_count": null,
   "metadata": {},
   "outputs": [],
   "source": [
    "os.getcwd()"
   ]
  },
  {
   "cell_type": "code",
   "execution_count": null,
   "metadata": {},
   "outputs": [],
   "source": [
    "from housing.config.configuration import Configuration"
   ]
  },
  {
   "cell_type": "code",
   "execution_count": null,
   "metadata": {},
   "outputs": [],
   "source": [
    "config = Configuration()"
   ]
  },
  {
   "cell_type": "code",
   "execution_count": null,
   "metadata": {},
   "outputs": [],
   "source": [
    "config.config_info"
   ]
  },
  {
   "cell_type": "code",
   "execution_count": null,
   "metadata": {},
   "outputs": [],
   "source": [
    "config.get_training_pipeline_config()"
   ]
  },
  {
   "cell_type": "code",
   "execution_count": null,
   "metadata": {},
   "outputs": [],
   "source": [
    "config.get_data_ingestion_config()"
   ]
  },
  {
   "cell_type": "code",
   "execution_count": null,
   "metadata": {},
   "outputs": [],
   "source": [
    "class tcc:\n",
    "    def __init__(self,x):\n",
    "        self.x=x\n",
    "    def abc(self):\n",
    "        a = 5\n",
    "        b = 'sumit'\n",
    "        c = 6\n",
    "        result = a*c\n",
    "        return result\n",
    "\n",
    "    def cde(self):\n",
    "        result = self.abc()\n",
    "\n",
    "        f = result-8\n",
    "\n",
    "        return f"
   ]
  },
  {
   "cell_type": "code",
   "execution_count": null,
   "metadata": {},
   "outputs": [],
   "source": [
    "t =tcc(5)"
   ]
  },
  {
   "cell_type": "code",
   "execution_count": null,
   "metadata": {},
   "outputs": [],
   "source": [
    "t.abc()"
   ]
  },
  {
   "cell_type": "code",
   "execution_count": null,
   "metadata": {},
   "outputs": [],
   "source": [
    "t.cde()"
   ]
  },
  {
   "cell_type": "code",
   "execution_count": null,
   "metadata": {},
   "outputs": [],
   "source": [
    "os.getcwd()"
   ]
  },
  {
   "cell_type": "code",
   "execution_count": null,
   "metadata": {},
   "outputs": [],
   "source": [
    "os.chdir(\"d:\\\\ML Projects\\\\house_price_prediction\")"
   ]
  },
  {
   "cell_type": "code",
   "execution_count": null,
   "metadata": {},
   "outputs": [],
   "source": [
    "os.getcwd()"
   ]
  },
  {
   "cell_type": "code",
   "execution_count": null,
   "metadata": {},
   "outputs": [],
   "source": [
    "os.listdir(\"config\")[0]"
   ]
  },
  {
   "cell_type": "code",
   "execution_count": null,
   "metadata": {},
   "outputs": [],
   "source": [
    "os.path.exists(\"config\")"
   ]
  },
  {
   "cell_type": "code",
   "execution_count": null,
   "metadata": {},
   "outputs": [],
   "source": [
    "os.getcwd()"
   ]
  },
  {
   "cell_type": "code",
   "execution_count": null,
   "metadata": {},
   "outputs": [],
   "source": [
    "file_path = r\"D:\\ML Projects\\house_price_prediction\\raw_data\\housing.csv\""
   ]
  },
  {
   "cell_type": "code",
   "execution_count": null,
   "metadata": {},
   "outputs": [],
   "source": [
    "import pandas as pd"
   ]
  },
  {
   "cell_type": "code",
   "execution_count": null,
   "metadata": {},
   "outputs": [],
   "source": [
    "df = pd.read_csv(file_path)"
   ]
  },
  {
   "cell_type": "code",
   "execution_count": null,
   "metadata": {},
   "outputs": [],
   "source": [
    "df.head()"
   ]
  },
  {
   "cell_type": "code",
   "execution_count": null,
   "metadata": {},
   "outputs": [],
   "source": [
    "df.shape"
   ]
  },
  {
   "cell_type": "code",
   "execution_count": null,
   "metadata": {},
   "outputs": [],
   "source": [
    "from sklearn.model_selection import StratifiedShuffleSplit"
   ]
  },
  {
   "cell_type": "code",
   "execution_count": null,
   "metadata": {},
   "outputs": [],
   "source": [
    "df.head()"
   ]
  },
  {
   "cell_type": "code",
   "execution_count": null,
   "metadata": {},
   "outputs": [],
   "source": [
    "import numpy as np"
   ]
  },
  {
   "cell_type": "code",
   "execution_count": null,
   "metadata": {},
   "outputs": [],
   "source": [
    "df[\"Income_cat\"] = pd.cut(df[\"median_income\"],bins=[0 , 1.5 , 3.0 , 4.5 , 6.0 , np.inf],labels =[1,2,3,4,5])"
   ]
  },
  {
   "cell_type": "code",
   "execution_count": null,
   "metadata": {},
   "outputs": [],
   "source": [
    "df['income_cat'] = pd.cut(\n",
    "                df[\"median_income\"],\n",
    "                bins=[0, 1.5, 3.0, 4.5, 6.0, np.inf],\n",
    "                labels = [1,2,3,4,5])"
   ]
  },
  {
   "cell_type": "code",
   "execution_count": null,
   "metadata": {},
   "outputs": [],
   "source": [
    "df.drop(columns =\"income_cat\",inplace = True)"
   ]
  },
  {
   "cell_type": "code",
   "execution_count": null,
   "metadata": {},
   "outputs": [],
   "source": [
    "df"
   ]
  },
  {
   "cell_type": "code",
   "execution_count": null,
   "metadata": {},
   "outputs": [],
   "source": [
    "split = StratifiedShuffleSplit(n_splits=2,test_size=0.20,random_state=42)"
   ]
  },
  {
   "cell_type": "code",
   "execution_count": null,
   "metadata": {},
   "outputs": [],
   "source": [
    "for train_index , test_index in split.split(df,df[\"Income_cat\"]):\n",
    "    print(train_index)"
   ]
  },
  {
   "cell_type": "code",
   "execution_count": null,
   "metadata": {},
   "outputs": [],
   "source": [
    "print(test_index)"
   ]
  },
  {
   "cell_type": "code",
   "execution_count": null,
   "metadata": {},
   "outputs": [],
   "source": [
    "print(train_index)"
   ]
  },
  {
   "cell_type": "code",
   "execution_count": null,
   "metadata": {},
   "outputs": [],
   "source": [
    "from housing.config.configuration import Configuration"
   ]
  },
  {
   "cell_type": "code",
   "execution_count": null,
   "metadata": {},
   "outputs": [],
   "source": [
    "from housing.entity.artifact_entity import DataIngestionArtifact,DataValidationArtifact"
   ]
  },
  {
   "cell_type": "code",
   "execution_count": null,
   "metadata": {},
   "outputs": [],
   "source": [
    "from housing.entity.config_entity import DataIngestionConfig,DataValidationConfig"
   ]
  },
  {
   "cell_type": "code",
   "execution_count": null,
   "metadata": {},
   "outputs": [],
   "source": [
    "from housing.component.data_ingestion import DataIngestion"
   ]
  },
  {
   "cell_type": "code",
   "execution_count": null,
   "metadata": {},
   "outputs": [],
   "source": [
    "object1 = DataIngestion()"
   ]
  },
  {
   "cell_type": "code",
   "execution_count": null,
   "metadata": {},
   "outputs": [],
   "source": []
  },
  {
   "cell_type": "code",
   "execution_count": null,
   "metadata": {},
   "outputs": [],
   "source": [
    "class DataValidation:\n",
    "    def __init__(self,data_validation_config:DataValidationConfig,data_ingestion_artifact:DataIngestionArtifact)->DataValidationArtifact:\n",
    "\n",
    "        self.data_validation_config = data_validation_config\n",
    "        self.data_ingestion_artifact = data_ingestion_artifact\n",
    "\n",
    "    def get_schema_file_path(self):\n",
    "        try:\n",
    "            schema_file_path = self.data_validation_config.schema_file_path\n",
    "            return schema_file_path\n",
    "        except Exception as e:\n",
    "            print(e)\n",
    "\n",
    "    def get_report_file_path(self):\n",
    "        try:\n",
    "            report_file_path =self.data_validation_config.report_page_file_path\n",
    "            return report_file_path\n",
    "        except Exception as e:\n",
    "            print(e)\n",
    "\n",
    "    def get_report_page_file_path(self):\n",
    "        report_page_file_path=self.data_validation_config.report_page_file_path\n",
    "        return report_page_file_path\n",
    "\n",
    "    def initiate_data_validation(self):\n",
    "        try:\n",
    "            schema_file_path = self.get_schema_file_path()\n",
    "            report_file_path = self.get_report_file_path()\n",
    "            report_page_file_path = self.get_report_page_file_path()\n",
    "\n",
    "            data_validation_artifact = DataValidationArtifact(\n",
    "                schema_file_path, \n",
    "                report_file_path, \n",
    "                report_page_file_path, \n",
    "                is_validated = True, \n",
    "                message = f\"Data validation Completed Successfuly\"\n",
    "\n",
    "            )\n",
    "            return data_validation_artifact\n",
    "        except Exception as e:\n",
    "            print(e)\n"
   ]
  },
  {
   "cell_type": "code",
   "execution_count": null,
   "metadata": {},
   "outputs": [],
   "source": [
    "config = Configuration()"
   ]
  },
  {
   "cell_type": "code",
   "execution_count": null,
   "metadata": {},
   "outputs": [],
   "source": [
    "data_ingestion_config = config.get_data_ingestion_config()"
   ]
  },
  {
   "cell_type": "code",
   "execution_count": null,
   "metadata": {},
   "outputs": [],
   "source": [
    "data_validation_config = config.get_data_validation_config(data_ingestion_artifact=data_ingestion_artifact)"
   ]
  },
  {
   "cell_type": "code",
   "execution_count": null,
   "metadata": {},
   "outputs": [],
   "source": [
    "data_ingestion = DataIngestion(data_ingestion_config=data_ingestion_config)"
   ]
  },
  {
   "cell_type": "code",
   "execution_count": null,
   "metadata": {},
   "outputs": [],
   "source": [
    "data_ingestion_artifact =data_ingestion.split_into_train_and_test()"
   ]
  },
  {
   "cell_type": "code",
   "execution_count": null,
   "metadata": {},
   "outputs": [],
   "source": [
    "data_ingestion_artifact"
   ]
  },
  {
   "cell_type": "code",
   "execution_count": null,
   "metadata": {},
   "outputs": [],
   "source": [
    "\n",
    "data_validation = DataValidation(data_validation_config=data_validation_config,data_ingestion_artifact=data_ingestion_artifact)"
   ]
  },
  {
   "cell_type": "code",
   "execution_count": null,
   "metadata": {},
   "outputs": [],
   "source": [
    "data_validation.get_report_file_path()"
   ]
  },
  {
   "cell_type": "code",
   "execution_count": null,
   "metadata": {},
   "outputs": [],
   "source": [
    "data_validation.get_report_page_file_path()"
   ]
  },
  {
   "cell_type": "code",
   "execution_count": null,
   "metadata": {},
   "outputs": [],
   "source": [
    "data_validation.get_schema_file_path()"
   ]
  },
  {
   "cell_type": "code",
   "execution_count": null,
   "metadata": {},
   "outputs": [],
   "source": [
    "data_validation_artifact = data_validation.initiate_data_validation()"
   ]
  },
  {
   "cell_type": "code",
   "execution_count": null,
   "metadata": {},
   "outputs": [],
   "source": [
    "data_ingestion_artifact"
   ]
  },
  {
   "cell_type": "code",
   "execution_count": 1,
   "metadata": {},
   "outputs": [],
   "source": [
    "import os"
   ]
  },
  {
   "cell_type": "code",
   "execution_count": 2,
   "metadata": {},
   "outputs": [
    {
     "data": {
      "text/plain": [
       "'d:\\\\ML Projects\\\\house_price_prediction\\\\notebook'"
      ]
     },
     "execution_count": 2,
     "metadata": {},
     "output_type": "execute_result"
    }
   ],
   "source": [
    "os.getcwd()"
   ]
  },
  {
   "cell_type": "code",
   "execution_count": 3,
   "metadata": {},
   "outputs": [],
   "source": [
    "os.chdir(\"d:\\\\ML Projects\\\\house_price_prediction\")"
   ]
  },
  {
   "cell_type": "code",
   "execution_count": 4,
   "metadata": {},
   "outputs": [
    {
     "data": {
      "text/plain": [
       "'d:\\\\ML Projects\\\\house_price_prediction'"
      ]
     },
     "execution_count": 4,
     "metadata": {},
     "output_type": "execute_result"
    }
   ],
   "source": [
    "os.getcwd()"
   ]
  },
  {
   "cell_type": "code",
   "execution_count": 5,
   "metadata": {},
   "outputs": [],
   "source": [
    "import pandas as pd"
   ]
  },
  {
   "cell_type": "code",
   "execution_count": null,
   "metadata": {},
   "outputs": [],
   "source": [
    "file_path = r\"D:\\ML Projects\\house_price_prediction\\housing\\artifact\\data_ingestion\\2022-07-10_15-12-35\\ingested_data\\train\\housing.csv\""
   ]
  },
  {
   "cell_type": "code",
   "execution_count": 6,
   "metadata": {},
   "outputs": [],
   "source": [
    "from housing.component.data_ingestion import DataIngestion"
   ]
  },
  {
   "cell_type": "code",
   "execution_count": 7,
   "metadata": {},
   "outputs": [],
   "source": [
    "from housing.config.configuration import Configuration"
   ]
  },
  {
   "cell_type": "code",
   "execution_count": 8,
   "metadata": {},
   "outputs": [],
   "source": [
    "config = Configuration()"
   ]
  },
  {
   "cell_type": "code",
   "execution_count": 9,
   "metadata": {},
   "outputs": [],
   "source": [
    "data_ingestion_config = config.get_data_ingestion_config()"
   ]
  },
  {
   "cell_type": "code",
   "execution_count": 10,
   "metadata": {},
   "outputs": [
    {
     "data": {
      "text/plain": [
       "DataIngestionConfig(dataset_download_url='https://raw.githubusercontent.com/ageron/handson-ml/master/datasets/housing/housing.tgz', raw_data_dir='d:\\\\ML Projects\\\\house_price_prediction\\\\housing\\\\artifact\\\\data_ingestion\\\\2022-07-11_20-17-12\\\\raw_data', tgz_download_dir='d:\\\\ML Projects\\\\house_price_prediction\\\\housing\\\\artifact\\\\data_ingestion\\\\2022-07-11_20-17-12\\\\tgz_data', ingested_dir='d:\\\\ML Projects\\\\house_price_prediction\\\\housing\\\\artifact\\\\data_ingestion\\\\2022-07-11_20-17-12\\\\ingested_data', ingested_train_dir='d:\\\\ML Projects\\\\house_price_prediction\\\\housing\\\\artifact\\\\data_ingestion\\\\2022-07-11_20-17-12\\\\ingested_data\\\\train', ingested_test_dir='d:\\\\ML Projects\\\\house_price_prediction\\\\housing\\\\artifact\\\\data_ingestion\\\\2022-07-11_20-17-12\\\\ingested_data\\\\test')"
      ]
     },
     "execution_count": 10,
     "metadata": {},
     "output_type": "execute_result"
    }
   ],
   "source": [
    "data_ingestion_config"
   ]
  },
  {
   "cell_type": "code",
   "execution_count": 11,
   "metadata": {},
   "outputs": [],
   "source": [
    "data_ingestion = DataIngestion(data_ingestion_config=data_ingestion_config)"
   ]
  },
  {
   "cell_type": "code",
   "execution_count": 12,
   "metadata": {},
   "outputs": [],
   "source": [
    "data_ingestion_artifact = data_ingestion.split_into_train_and_test()"
   ]
  },
  {
   "cell_type": "code",
   "execution_count": 13,
   "metadata": {},
   "outputs": [
    {
     "data": {
      "text/plain": [
       "DataIngestionArtifact(train_file_path='d:\\\\ML Projects\\\\house_price_prediction\\\\housing\\\\artifact\\\\data_ingestion\\\\2022-07-11_20-17-12\\\\ingested_data\\\\train\\\\housing.csv', test_file_path='d:\\\\ML Projects\\\\house_price_prediction\\\\housing\\\\artifact\\\\data_ingestion\\\\2022-07-11_20-17-12\\\\ingested_data\\\\test\\\\housing.csv', is_ingested=True, message='Data Ingestion completed successfully')"
      ]
     },
     "execution_count": 13,
     "metadata": {},
     "output_type": "execute_result"
    }
   ],
   "source": [
    "data_ingestion_artifact"
   ]
  },
  {
   "cell_type": "code",
   "execution_count": 14,
   "metadata": {},
   "outputs": [],
   "source": [
    "data_validation_config=config.get_data_validation_config(data_ingestion_artifact)"
   ]
  },
  {
   "cell_type": "code",
   "execution_count": 15,
   "metadata": {},
   "outputs": [
    {
     "data": {
      "text/plain": [
       "DataValidationConfig(schema_file_path='d:\\\\ML Projects\\\\house_price_prediction\\\\housing\\\\artifact\\\\data-validation\\\\2022-07-11_20-17-12\\\\schema.yaml', report_file_path='d:\\\\ML Projects\\\\house_price_prediction\\\\housing\\\\artifact\\\\data-validation\\\\2022-07-11_20-17-12\\\\report.json', report_page_file_path='d:\\\\ML Projects\\\\house_price_prediction\\\\housing\\\\artifact\\\\data-validation\\\\2022-07-11_20-17-12\\\\report.html')"
      ]
     },
     "execution_count": 15,
     "metadata": {},
     "output_type": "execute_result"
    }
   ],
   "source": [
    "data_validation_config"
   ]
  },
  {
   "cell_type": "code",
   "execution_count": 16,
   "metadata": {},
   "outputs": [],
   "source": [
    "train_file_path = data_ingestion_artifact.train_file_path"
   ]
  },
  {
   "cell_type": "code",
   "execution_count": 17,
   "metadata": {},
   "outputs": [],
   "source": [
    "train_df = pd.read_csv(train_file_path)"
   ]
  },
  {
   "cell_type": "code",
   "execution_count": null,
   "metadata": {},
   "outputs": [],
   "source": [
    "train_df.head()"
   ]
  },
  {
   "cell_type": "code",
   "execution_count": null,
   "metadata": {},
   "outputs": [],
   "source": [
    "train_df.shape[1]"
   ]
  },
  {
   "cell_type": "code",
   "execution_count": null,
   "metadata": {},
   "outputs": [],
   "source": [
    "train_df[\"ocean_proximity\"].value_counts()"
   ]
  },
  {
   "cell_type": "code",
   "execution_count": null,
   "metadata": {},
   "outputs": [],
   "source": [
    "def validate_dataset_schema():\n",
    "        try:\n",
    "            validation_status = False\n",
    "            \n",
    "            #Assigment validate training and testing dataset using schema file\n",
    "            #1. Number of Column\n",
    "\n",
    "            train_file_path = data_ingestion_artifact.train_file_path\n",
    "            test_file_path = data_ingestion_artifact.test_file_path\n",
    "\n",
    "            train_df = pd.read_csv(train_file_path)\n",
    "            test_df = pd.read_csv(test_file_path)\n",
    "\n",
    "            number_of_columns= train_df.shape[1]\n",
    "\n",
    "            values_of_ocean_proximity = train_df[\"ocean_proximity\"].value_counts()\n",
    "\n",
    "            column_names = train_df.columns\n",
    "\n",
    "            #2. Check the value of ocean proximity \n",
    "            # acceptable values     <1H OCEAN\n",
    "            # INLAND\n",
    "            # ISLAND\n",
    "            # NEAR BAY\n",
    "            # NEAR OCEAN\n",
    "            #3. Check column names\n",
    "\n",
    "            message = f\"\"\"number of column : [{number_of_columns}\n",
    "            values of ocean proximity is : [{values_of_ocean_proximity}]\n",
    "            and column names are : [{column_names}]\n",
    "            ]\"\"\"\n",
    "\n",
    "            \n",
    "\n",
    "            validation_status = message,\"True\"\n",
    "            return validation_status \n",
    "        except Exception as e:\n",
    "            raise HousingException(e,sys) from e\n"
   ]
  },
  {
   "cell_type": "code",
   "execution_count": null,
   "metadata": {},
   "outputs": [],
   "source": [
    "validate_dataset_schema()"
   ]
  },
  {
   "cell_type": "code",
   "execution_count": 18,
   "metadata": {},
   "outputs": [
    {
     "data": {
      "text/plain": [
       "DataIngestionArtifact(train_file_path='d:\\\\ML Projects\\\\house_price_prediction\\\\housing\\\\artifact\\\\data_ingestion\\\\2022-07-11_20-17-12\\\\ingested_data\\\\train\\\\housing.csv', test_file_path='d:\\\\ML Projects\\\\house_price_prediction\\\\housing\\\\artifact\\\\data_ingestion\\\\2022-07-11_20-17-12\\\\ingested_data\\\\test\\\\housing.csv', is_ingested=True, message='Data Ingestion completed successfully')"
      ]
     },
     "execution_count": 18,
     "metadata": {},
     "output_type": "execute_result"
    }
   ],
   "source": [
    "data_ingestion_artifact"
   ]
  },
  {
   "cell_type": "code",
   "execution_count": 19,
   "metadata": {},
   "outputs": [],
   "source": [
    "from evidently.model_profile import Profile\n",
    "from evidently.model_profile.sections import DataDriftProfileSection\n",
    "from evidently.dashboard import Dashboard\n",
    "from evidently.dashboard.tabs import DataDriftTab\n",
    "import json"
   ]
  },
  {
   "cell_type": "code",
   "execution_count": 20,
   "metadata": {},
   "outputs": [],
   "source": [
    "report_file_path = data_validation_config.report_file_path"
   ]
  },
  {
   "cell_type": "code",
   "execution_count": null,
   "metadata": {},
   "outputs": [],
   "source": [
    "def get_and_save_data_drift_report():\n",
    "        try:\n",
    "            profile = Profile(sections=[DataDriftProfileSection()])\n",
    "\n",
    "            train_df,test_df = train_df,test_df\n",
    "\n",
    "            profile.calculate(train_df,test_df)\n",
    "\n",
    "            report = json.loads(profile.json())\n",
    "\n",
    "            report_file_path = report_file_path\n",
    "            report_dir = os.path.dirname(report_file_path)\n",
    "            os.makedirs(report_dir,exist_ok=True)\n",
    "\n",
    "            with open(report_file_path,\"w\") as report_file:\n",
    "                json.dump(report, report_file, indent=6)\n",
    "            return report\n",
    "        except Exception as e:\n",
    "            print(e)"
   ]
  },
  {
   "cell_type": "code",
   "execution_count": null,
   "metadata": {},
   "outputs": [],
   "source": [
    "get_and_save_data_drift_report()"
   ]
  },
  {
   "cell_type": "code",
   "execution_count": 21,
   "metadata": {},
   "outputs": [],
   "source": [
    "from housing.component.data_validation import DataValidation"
   ]
  },
  {
   "cell_type": "code",
   "execution_count": 22,
   "metadata": {},
   "outputs": [],
   "source": [
    "data_validation = DataValidation(data_validation_config,data_ingestion_artifact)"
   ]
  },
  {
   "cell_type": "code",
   "execution_count": 23,
   "metadata": {},
   "outputs": [
    {
     "data": {
      "text/plain": [
       "(       longitude  latitude  housing_median_age  total_rooms  total_bedrooms  \\\n",
       " 0        -121.46     38.52                29.0       3873.0           797.0   \n",
       " 1        -117.23     33.09                 7.0       5320.0           855.0   \n",
       " 2        -119.04     35.37                44.0       1618.0           310.0   \n",
       " 3        -117.13     32.75                24.0       1877.0           519.0   \n",
       " 4        -118.70     34.28                27.0       3536.0           646.0   \n",
       " ...          ...       ...                 ...          ...             ...   \n",
       " 16507    -117.07     33.03                14.0       6665.0          1231.0   \n",
       " 16508    -121.42     38.51                15.0       7901.0          1422.0   \n",
       " 16509    -122.72     38.44                48.0        707.0           166.0   \n",
       " 16510    -122.70     38.31                14.0       3155.0           580.0   \n",
       " 16511    -122.14     39.97                27.0       1079.0           222.0   \n",
       " \n",
       "        population  households  median_income  median_house_value  \\\n",
       " 0          2237.0       706.0         2.1736             72100.0   \n",
       " 1          2015.0       768.0         6.3373            279600.0   \n",
       " 2           667.0       300.0         2.8750             82700.0   \n",
       " 3           898.0       483.0         2.2264            112500.0   \n",
       " 4          1837.0       580.0         4.4964            238300.0   \n",
       " ...           ...         ...            ...                 ...   \n",
       " 16507      2026.0      1001.0         5.0900            268500.0   \n",
       " 16508      4769.0      1418.0         2.8139             90400.0   \n",
       " 16509       458.0       172.0         3.1797            140400.0   \n",
       " 16510      1208.0       501.0         4.1964            258100.0   \n",
       " 16511       625.0       197.0         3.1319             62700.0   \n",
       " \n",
       "       ocean_proximity  \n",
       " 0              INLAND  \n",
       " 1          NEAR OCEAN  \n",
       " 2              INLAND  \n",
       " 3          NEAR OCEAN  \n",
       " 4           <1H OCEAN  \n",
       " ...               ...  \n",
       " 16507       <1H OCEAN  \n",
       " 16508          INLAND  \n",
       " 16509       <1H OCEAN  \n",
       " 16510       <1H OCEAN  \n",
       " 16511          INLAND  \n",
       " \n",
       " [16512 rows x 10 columns],\n",
       "       longitude  latitude  housing_median_age  total_rooms  total_bedrooms  \\\n",
       " 0       -118.39     34.12                29.0       6447.0          1012.0   \n",
       " 1       -120.42     34.89                24.0       2020.0           307.0   \n",
       " 2       -118.45     34.25                36.0       1453.0           270.0   \n",
       " 3       -118.10     33.91                35.0       1653.0           325.0   \n",
       " 4       -117.07     32.77                38.0       3779.0           614.0   \n",
       " ...         ...       ...                 ...          ...             ...   \n",
       " 4123    -117.29     33.72                19.0       2248.0           427.0   \n",
       " 4124    -118.24     33.99                33.0        885.0           294.0   \n",
       " 4125    -119.72     34.44                43.0       1781.0           342.0   \n",
       " 4126    -117.91     33.63                30.0       2071.0           412.0   \n",
       " 4127    -118.56     34.19                36.0       2600.0           441.0   \n",
       " \n",
       "       population  households  median_income  median_house_value  \\\n",
       " 0         2184.0       960.0         8.2816            500001.0   \n",
       " 1          855.0       283.0         5.0099            162500.0   \n",
       " 2          808.0       275.0         4.3839            204600.0   \n",
       " 3         1072.0       301.0         3.2708            159700.0   \n",
       " 4         1495.0       614.0         4.3529            184000.0   \n",
       " ...          ...         ...            ...                 ...   \n",
       " 4123      1207.0       368.0         2.8170            110000.0   \n",
       " 4124      1270.0       282.0         2.1615            118800.0   \n",
       " 4125       663.0       358.0         4.7000            293800.0   \n",
       " 4126      1081.0       412.0         4.9125            335700.0   \n",
       " 4127      1246.0       426.0         4.1111            215600.0   \n",
       " \n",
       "      ocean_proximity  \n",
       " 0          <1H OCEAN  \n",
       " 1          <1H OCEAN  \n",
       " 2          <1H OCEAN  \n",
       " 3          <1H OCEAN  \n",
       " 4         NEAR OCEAN  \n",
       " ...              ...  \n",
       " 4123       <1H OCEAN  \n",
       " 4124       <1H OCEAN  \n",
       " 4125       <1H OCEAN  \n",
       " 4126       <1H OCEAN  \n",
       " 4127       <1H OCEAN  \n",
       " \n",
       " [4128 rows x 10 columns])"
      ]
     },
     "execution_count": 23,
     "metadata": {},
     "output_type": "execute_result"
    }
   ],
   "source": [
    "data_validation.get_train_df_and_test_df()"
   ]
  },
  {
   "cell_type": "code",
   "execution_count": 24,
   "metadata": {},
   "outputs": [
    {
     "name": "stdout",
     "output_type": "stream",
     "text": [
      "Total Number Of Columns = [10]\n",
      "            Columns Names are : [Index(['longitude', 'latitude', 'housing_median_age', 'total_rooms',\n",
      "       'total_bedrooms', 'population', 'households', 'median_income',\n",
      "       'median_house_value', 'ocean_proximity'],\n",
      "      dtype='object')],\n",
      "            Numerical Feature Columns :[['longitude', 'latitude', 'housing_median_age', 'total_rooms', 'total_bedrooms', 'population', 'households', 'median_income', 'median_house_value']],\n",
      "            Categorical Features Column : [['ocean_proximity']],\n",
      "            Values in Ocean Proximity Column : [<1H OCEAN     7277\n",
      "INLAND        5262\n",
      "NEAR OCEAN    2124\n",
      "NEAR BAY      1847\n",
      "ISLAND           2\n",
      "Name: ocean_proximity, dtype: int64]\n",
      "            Validation Status =[True]\n",
      "            \n"
     ]
    }
   ],
   "source": [
    "data_validation.validate_dataset_schema()"
   ]
  },
  {
   "cell_type": "code",
   "execution_count": 25,
   "metadata": {},
   "outputs": [
    {
     "data": {
      "text/plain": [
       "True"
      ]
     },
     "execution_count": 25,
     "metadata": {},
     "output_type": "execute_result"
    }
   ],
   "source": [
    "data_validation.is_train_and_test_file_exist()"
   ]
  },
  {
   "cell_type": "code",
   "execution_count": null,
   "metadata": {},
   "outputs": [],
   "source": [
    "train_df,test_df = data_validation.get_train_df_and_test_df()"
   ]
  },
  {
   "cell_type": "code",
   "execution_count": null,
   "metadata": {},
   "outputs": [],
   "source": [
    "train_df.head()"
   ]
  },
  {
   "cell_type": "code",
   "execution_count": null,
   "metadata": {},
   "outputs": [],
   "source": [
    "test_df.head()"
   ]
  },
  {
   "cell_type": "code",
   "execution_count": null,
   "metadata": {},
   "outputs": [],
   "source": [
    "import pandas_profiling\n",
    "from pandas_profiling import ProfileReport\n",
    "\n"
   ]
  },
  {
   "cell_type": "code",
   "execution_count": null,
   "metadata": {},
   "outputs": [],
   "source": [
    "import pandas_profiling"
   ]
  },
  {
   "cell_type": "code",
   "execution_count": null,
   "metadata": {},
   "outputs": [],
   "source": [
    "pf = ProfileReport(train_df)"
   ]
  },
  {
   "cell_type": "code",
   "execution_count": null,
   "metadata": {},
   "outputs": [],
   "source": [
    "pf.to_widgets()"
   ]
  },
  {
   "cell_type": "code",
   "execution_count": 26,
   "metadata": {},
   "outputs": [
    {
     "data": {
      "text/plain": [
       "(       longitude  latitude  housing_median_age  total_rooms  total_bedrooms  \\\n",
       " 0        -121.46     38.52                29.0       3873.0           797.0   \n",
       " 1        -117.23     33.09                 7.0       5320.0           855.0   \n",
       " 2        -119.04     35.37                44.0       1618.0           310.0   \n",
       " 3        -117.13     32.75                24.0       1877.0           519.0   \n",
       " 4        -118.70     34.28                27.0       3536.0           646.0   \n",
       " ...          ...       ...                 ...          ...             ...   \n",
       " 16507    -117.07     33.03                14.0       6665.0          1231.0   \n",
       " 16508    -121.42     38.51                15.0       7901.0          1422.0   \n",
       " 16509    -122.72     38.44                48.0        707.0           166.0   \n",
       " 16510    -122.70     38.31                14.0       3155.0           580.0   \n",
       " 16511    -122.14     39.97                27.0       1079.0           222.0   \n",
       " \n",
       "        population  households  median_income  median_house_value  \\\n",
       " 0          2237.0       706.0         2.1736             72100.0   \n",
       " 1          2015.0       768.0         6.3373            279600.0   \n",
       " 2           667.0       300.0         2.8750             82700.0   \n",
       " 3           898.0       483.0         2.2264            112500.0   \n",
       " 4          1837.0       580.0         4.4964            238300.0   \n",
       " ...           ...         ...            ...                 ...   \n",
       " 16507      2026.0      1001.0         5.0900            268500.0   \n",
       " 16508      4769.0      1418.0         2.8139             90400.0   \n",
       " 16509       458.0       172.0         3.1797            140400.0   \n",
       " 16510      1208.0       501.0         4.1964            258100.0   \n",
       " 16511       625.0       197.0         3.1319             62700.0   \n",
       " \n",
       "       ocean_proximity  \n",
       " 0              INLAND  \n",
       " 1          NEAR OCEAN  \n",
       " 2              INLAND  \n",
       " 3          NEAR OCEAN  \n",
       " 4           <1H OCEAN  \n",
       " ...               ...  \n",
       " 16507       <1H OCEAN  \n",
       " 16508          INLAND  \n",
       " 16509       <1H OCEAN  \n",
       " 16510       <1H OCEAN  \n",
       " 16511          INLAND  \n",
       " \n",
       " [16512 rows x 10 columns],\n",
       "       longitude  latitude  housing_median_age  total_rooms  total_bedrooms  \\\n",
       " 0       -118.39     34.12                29.0       6447.0          1012.0   \n",
       " 1       -120.42     34.89                24.0       2020.0           307.0   \n",
       " 2       -118.45     34.25                36.0       1453.0           270.0   \n",
       " 3       -118.10     33.91                35.0       1653.0           325.0   \n",
       " 4       -117.07     32.77                38.0       3779.0           614.0   \n",
       " ...         ...       ...                 ...          ...             ...   \n",
       " 4123    -117.29     33.72                19.0       2248.0           427.0   \n",
       " 4124    -118.24     33.99                33.0        885.0           294.0   \n",
       " 4125    -119.72     34.44                43.0       1781.0           342.0   \n",
       " 4126    -117.91     33.63                30.0       2071.0           412.0   \n",
       " 4127    -118.56     34.19                36.0       2600.0           441.0   \n",
       " \n",
       "       population  households  median_income  median_house_value  \\\n",
       " 0         2184.0       960.0         8.2816            500001.0   \n",
       " 1          855.0       283.0         5.0099            162500.0   \n",
       " 2          808.0       275.0         4.3839            204600.0   \n",
       " 3         1072.0       301.0         3.2708            159700.0   \n",
       " 4         1495.0       614.0         4.3529            184000.0   \n",
       " ...          ...         ...            ...                 ...   \n",
       " 4123      1207.0       368.0         2.8170            110000.0   \n",
       " 4124      1270.0       282.0         2.1615            118800.0   \n",
       " 4125       663.0       358.0         4.7000            293800.0   \n",
       " 4126      1081.0       412.0         4.9125            335700.0   \n",
       " 4127      1246.0       426.0         4.1111            215600.0   \n",
       " \n",
       "      ocean_proximity  \n",
       " 0          <1H OCEAN  \n",
       " 1          <1H OCEAN  \n",
       " 2          <1H OCEAN  \n",
       " 3          <1H OCEAN  \n",
       " 4         NEAR OCEAN  \n",
       " ...              ...  \n",
       " 4123       <1H OCEAN  \n",
       " 4124       <1H OCEAN  \n",
       " 4125       <1H OCEAN  \n",
       " 4126       <1H OCEAN  \n",
       " 4127       <1H OCEAN  \n",
       " \n",
       " [4128 rows x 10 columns])"
      ]
     },
     "execution_count": 26,
     "metadata": {},
     "output_type": "execute_result"
    }
   ],
   "source": [
    "data_validation.get_train_df_and_test_df()"
   ]
  },
  {
   "cell_type": "code",
   "execution_count": 27,
   "metadata": {},
   "outputs": [
    {
     "data": {
      "text/plain": [
       "{'data_drift': {'name': 'data_drift',\n",
       "  'datetime': '2022-07-11 20:18:00.846284',\n",
       "  'data': {'utility_columns': {'date': None,\n",
       "    'id': None,\n",
       "    'target': None,\n",
       "    'prediction': None},\n",
       "   'cat_feature_names': ['ocean_proximity'],\n",
       "   'num_feature_names': ['households',\n",
       "    'housing_median_age',\n",
       "    'latitude',\n",
       "    'longitude',\n",
       "    'median_house_value',\n",
       "    'median_income',\n",
       "    'population',\n",
       "    'total_bedrooms',\n",
       "    'total_rooms'],\n",
       "   'datetime_feature_names': [],\n",
       "   'target_names': None,\n",
       "   'options': {'confidence': None,\n",
       "    'drift_share': 0.5,\n",
       "    'nbinsx': 10,\n",
       "    'xbins': None},\n",
       "   'metrics': {'n_features': 10,\n",
       "    'n_drifted_features': 0,\n",
       "    'share_drifted_features': 0.0,\n",
       "    'dataset_drift': False,\n",
       "    'households': {'current_small_hist': [[0.0012289677212922701,\n",
       "       0.0003362232598932499,\n",
       "       5.377978683126627e-05,\n",
       "       1.593475165370853e-05,\n",
       "       4.780425496112559e-06,\n",
       "       1.195106374028139e-06,\n",
       "       1.1951063740281406e-06,\n",
       "       1.5934751653708517e-06,\n",
       "       3.983687913427129e-07,\n",
       "       3.9836879134271355e-07],\n",
       "      [1.0,\n",
       "       609.1,\n",
       "       1217.2,\n",
       "       1825.3000000000002,\n",
       "       2433.4,\n",
       "       3041.5,\n",
       "       3649.6000000000004,\n",
       "       4257.7,\n",
       "       4865.8,\n",
       "       5473.900000000001,\n",
       "       6082.0]],\n",
       "     'ref_small_hist': [[0.0012811195587358378,\n",
       "       0.00047162839183470247,\n",
       "       8.062120435822172e-05,\n",
       "       1.9222447041932257e-05,\n",
       "       7.688978816772902e-06,\n",
       "       3.61834297259901e-06,\n",
       "       1.583025050512068e-06,\n",
       "       1.0176589610434724e-06,\n",
       "       2.2614643578743813e-07,\n",
       "       3.3921965368115775e-07],\n",
       "      [2.0,\n",
       "       537.6,\n",
       "       1073.2,\n",
       "       1608.8000000000002,\n",
       "       2144.4,\n",
       "       2680.0,\n",
       "       3215.6000000000004,\n",
       "       3751.2000000000003,\n",
       "       4286.8,\n",
       "       4822.400000000001,\n",
       "       5358.0]],\n",
       "     'feature_type': 'num',\n",
       "     'stattest_name': 'Wasserstein distance (normed)',\n",
       "     'drift_score': 0.035700151073703966,\n",
       "     'drift_detected': False},\n",
       "    'housing_median_age': {'current_small_hist': [[0.007124943000455997,\n",
       "       0.010164918680650555,\n",
       "       0.021612327101383198,\n",
       "       0.02498480012159902,\n",
       "       0.025127298981608138,\n",
       "       0.021944824441404477,\n",
       "       0.032347241222070236,\n",
       "       0.017954856361149105,\n",
       "       0.016387368901048787,\n",
       "       0.018429852561179506],\n",
       "      [1.0,\n",
       "       6.1,\n",
       "       11.2,\n",
       "       16.299999999999997,\n",
       "       21.4,\n",
       "       26.5,\n",
       "       31.599999999999998,\n",
       "       36.699999999999996,\n",
       "       41.8,\n",
       "       46.9,\n",
       "       52.0]],\n",
       "     'ref_small_hist': [[0.006756820945432437,\n",
       "       0.010568665450676395,\n",
       "       0.021137330901352797,\n",
       "       0.02559042027663778,\n",
       "       0.023524186806505542,\n",
       "       0.022467320261437915,\n",
       "       0.034128476972184234,\n",
       "       0.018073605411156705,\n",
       "       0.015093004255965946,\n",
       "       0.018738600091199265],\n",
       "      [1.0,\n",
       "       6.1,\n",
       "       11.2,\n",
       "       16.299999999999997,\n",
       "       21.4,\n",
       "       26.5,\n",
       "       31.599999999999998,\n",
       "       36.699999999999996,\n",
       "       41.8,\n",
       "       46.9,\n",
       "       52.0]],\n",
       "     'feature_type': 'num',\n",
       "     'stattest_name': 'Wasserstein distance (normed)',\n",
       "     'drift_score': 0.012931712243276685,\n",
       "     'drift_detected': False},\n",
       "    'latitude': {'current_small_hist': [[0.09045645719940645,\n",
       "       0.47496082797294825,\n",
       "       0.03427552366815116,\n",
       "       0.024482516905822076,\n",
       "       0.06726249381494326,\n",
       "       0.23864011215569908,\n",
       "       0.08607537522678498,\n",
       "       0.0291213095827149,\n",
       "       0.015462642256308678,\n",
       "       0.0030925284512617595],\n",
       "      [32.55,\n",
       "       33.489999999999995,\n",
       "       34.43,\n",
       "       35.37,\n",
       "       36.31,\n",
       "       37.25,\n",
       "       38.19,\n",
       "       39.13,\n",
       "       40.07,\n",
       "       41.010000000000005,\n",
       "       41.95]],\n",
       "     'ref_small_hist': [[0.09299905675143523,\n",
       "       0.4597821878423932,\n",
       "       0.0395165542182569,\n",
       "       0.024392140144494083,\n",
       "       0.06635434429808285,\n",
       "       0.24366396460964457,\n",
       "       0.09048904760727883,\n",
       "       0.02426342172684504,\n",
       "       0.016990831129674106,\n",
       "       0.0042477077824184944],\n",
       "      [32.54,\n",
       "       33.481,\n",
       "       34.422,\n",
       "       35.363,\n",
       "       36.304,\n",
       "       37.245000000000005,\n",
       "       38.186,\n",
       "       39.127,\n",
       "       40.068000000000005,\n",
       "       41.009,\n",
       "       41.95]],\n",
       "     'feature_type': 'num',\n",
       "     'stattest_name': 'Wasserstein distance (normed)',\n",
       "     'drift_score': 0.019211368524658438,\n",
       "     'drift_detected': False},\n",
       "    'longitude': {'current_small_hist': [[0.010576318715853563,\n",
       "       0.11306588341472024,\n",
       "       0.20095005560122067,\n",
       "       0.0727751454495638,\n",
       "       0.051874325130138906,\n",
       "       0.09443141710583539,\n",
       "       0.3548103112056588,\n",
       "       0.12641219036568016,\n",
       "       0.010576318715853563,\n",
       "       0.004029073796515644],\n",
       "      [-124.18,\n",
       "       -123.218,\n",
       "       -122.256,\n",
       "       -121.29400000000001,\n",
       "       -120.33200000000001,\n",
       "       -119.37,\n",
       "       -118.408,\n",
       "       -117.446,\n",
       "       -116.48400000000001,\n",
       "       -115.522,\n",
       "       -114.56]],\n",
       "     'ref_small_hist': [[0.009289392816331527,\n",
       "       0.07431514253065329,\n",
       "       0.22107548488217565,\n",
       "       0.08149330970690956,\n",
       "       0.05344416906019307,\n",
       "       0.14042666543129737,\n",
       "       0.2976828152506281,\n",
       "       0.10779314910898988,\n",
       "       0.009168751351184496,\n",
       "       0.0013270561166187896],\n",
       "      [-124.35,\n",
       "       -123.34599999999999,\n",
       "       -122.342,\n",
       "       -121.338,\n",
       "       -120.334,\n",
       "       -119.33,\n",
       "       -118.326,\n",
       "       -117.322,\n",
       "       -116.318,\n",
       "       -115.31400000000001,\n",
       "       -114.31]],\n",
       "     'feature_type': 'num',\n",
       "     'stattest_name': 'Wasserstein distance (normed)',\n",
       "     'drift_score': 0.017067342089880935,\n",
       "     'drift_detected': False},\n",
       "    'median_house_value': {'current_small_hist': [[9.040560497648711e-07,\n",
       "       3.6062346294488233e-06,\n",
       "       4.0357861227072715e-06,\n",
       "       3.6411981230861374e-06,\n",
       "       2.8270481998172206e-06,\n",
       "       1.8680495171937134e-06,\n",
       "       1.4384980239352643e-06,\n",
       "       6.892803031356474e-07,\n",
       "       4.695097717010932e-07,\n",
       "       1.1388109356154175e-06],\n",
       "      [14999.0,\n",
       "       63499.2,\n",
       "       111999.4,\n",
       "       160499.59999999998,\n",
       "       208999.8,\n",
       "       257500.0,\n",
       "       306000.19999999995,\n",
       "       354500.39999999997,\n",
       "       403000.6,\n",
       "       451500.8,\n",
       "       500001.0]],\n",
       "     'ref_small_hist': [[8.690925561275557e-07,\n",
       "       3.608732021851488e-06,\n",
       "       4.1094591985859e-06,\n",
       "       3.7985338444540568e-06,\n",
       "       2.788338617575907e-06,\n",
       "       1.741931200859111e-06,\n",
       "       1.1875100874673925e-06,\n",
       "       7.666994676182744e-07,\n",
       "       4.807480375130874e-07,\n",
       "       1.267426644352685e-06],\n",
       "      [14999.0,\n",
       "       63499.2,\n",
       "       111999.4,\n",
       "       160499.59999999998,\n",
       "       208999.8,\n",
       "       257500.0,\n",
       "       306000.19999999995,\n",
       "       354500.39999999997,\n",
       "       403000.6,\n",
       "       451500.8,\n",
       "       500001.0]],\n",
       "     'feature_type': 'num',\n",
       "     'stattest_name': 'Wasserstein distance (normed)',\n",
       "     'drift_score': 0.02228974409485374,\n",
       "     'drift_detected': False},\n",
       "    'median_income': {'current_small_hist': [[0.07668298400374911,\n",
       "       0.2499297256418489,\n",
       "       0.20181491214930058,\n",
       "       0.09840147620524665,\n",
       "       0.03725556739179967,\n",
       "       0.014701748567167598,\n",
       "       0.005346090388060939,\n",
       "       0.0018377185708959476,\n",
       "       0.001503587921642139,\n",
       "       0.0021718492201497565],\n",
       "      [0.4999,\n",
       "       1.9499199999999999,\n",
       "       3.39994,\n",
       "       4.849959999999999,\n",
       "       6.29998,\n",
       "       7.75,\n",
       "       9.200019999999999,\n",
       "       10.650039999999999,\n",
       "       12.10006,\n",
       "       13.55008,\n",
       "       15.0001]],\n",
       "     'ref_small_hist': [[0.07467820010822626,\n",
       "       0.24809200707095297,\n",
       "       0.20423735935639067,\n",
       "       0.10028096110729932,\n",
       "       0.03495841917817973,\n",
       "       0.014200552593286887,\n",
       "       0.006097884348882008,\n",
       "       0.003424839154851539,\n",
       "       0.0015871205839555912,\n",
       "       0.0020883165578363043],\n",
       "      [0.4999,\n",
       "       1.9499199999999999,\n",
       "       3.39994,\n",
       "       4.849959999999999,\n",
       "       6.29998,\n",
       "       7.75,\n",
       "       9.200019999999999,\n",
       "       10.650039999999999,\n",
       "       12.10006,\n",
       "       13.55008,\n",
       "       15.0001]],\n",
       "     'feature_type': 'num',\n",
       "     'stattest_name': 'Wasserstein distance (normed)',\n",
       "     'drift_score': 0.014875291032601042,\n",
       "     'drift_detected': False},\n",
       "    'population': {'current_small_hist': [[0.00032298610698331244,\n",
       "       2.340970733387454e-05,\n",
       "       2.374897845465533e-06,\n",
       "       9.329955821471735e-07,\n",
       "       3.3927112078079034e-07,\n",
       "       0.0,\n",
       "       0.0,\n",
       "       0.0,\n",
       "       0.0,\n",
       "       8.481778019519753e-08],\n",
       "      [5.0,\n",
       "       2861.1,\n",
       "       5717.2,\n",
       "       8573.3,\n",
       "       11429.4,\n",
       "       14285.5,\n",
       "       17141.6,\n",
       "       19997.7,\n",
       "       22853.8,\n",
       "       25709.899999999998,\n",
       "       28566.0]],\n",
       "     'ref_small_hist': [[0.0002692437259795624,\n",
       "       9.539463749874798e-06,\n",
       "       1.2730601089690566e-06,\n",
       "       1.3579307829003273e-07,\n",
       "       6.789653914501637e-08,\n",
       "       0.0,\n",
       "       0.0,\n",
       "       0.0,\n",
       "       0.0,\n",
       "       1.69741347862541e-08],\n",
       "      [3.0,\n",
       "       3570.9,\n",
       "       7138.8,\n",
       "       10706.7,\n",
       "       14274.6,\n",
       "       17842.5,\n",
       "       21410.4,\n",
       "       24978.3,\n",
       "       28546.2,\n",
       "       32114.100000000002,\n",
       "       35682.0]],\n",
       "     'feature_type': 'num',\n",
       "     'stattest_name': 'Wasserstein distance (normed)',\n",
       "     'drift_score': 0.027367276747562647,\n",
       "     'drift_detected': False},\n",
       "    'total_bedrooms': {'current_small_hist': [[0.0011519844949278444,\n",
       "       0.0003188120894153017,\n",
       "       5.36426069302596e-05,\n",
       "       1.5217760831279314e-05,\n",
       "       5.32621629094776e-06,\n",
       "       2.282664124691899e-06,\n",
       "       2.2826641246918955e-06,\n",
       "       1.5217760831279326e-06,\n",
       "       3.8044402078198315e-07,\n",
       "       3.8044402078198257e-07],\n",
       "      [1.0,\n",
       "       645.4,\n",
       "       1289.8,\n",
       "       1934.1999999999998,\n",
       "       2578.6,\n",
       "       3223.0,\n",
       "       3867.3999999999996,\n",
       "       4511.8,\n",
       "       5156.2,\n",
       "       5800.599999999999,\n",
       "       6445.0]],\n",
       "     'ref_small_hist': [[0.0011760576875798224,\n",
       "       0.00034946839828586346,\n",
       "       6.028034378549843e-05,\n",
       "       1.4183610302470219e-05,\n",
       "       6.796313269933644e-06,\n",
       "       1.969945875343087e-06,\n",
       "       1.0834702314386976e-06,\n",
       "       5.909837626029256e-07,\n",
       "       2.954918813014628e-07,\n",
       "       9.849729376715426e-08],\n",
       "      [2.0,\n",
       "       622.8,\n",
       "       1243.6,\n",
       "       1864.3999999999999,\n",
       "       2485.2,\n",
       "       3106.0,\n",
       "       3726.7999999999997,\n",
       "       4347.599999999999,\n",
       "       4968.4,\n",
       "       5589.2,\n",
       "       6210.0]],\n",
       "     'feature_type': 'num',\n",
       "     'stattest_name': 'Wasserstein distance (normed)',\n",
       "     'drift_score': 0.03767772655978998,\n",
       "     'drift_detected': False},\n",
       "    'total_rooms': {'current_small_hist': [[0.00023560248299622799,\n",
       "       5.7545516647361075e-05,\n",
       "       8.836021265852862e-06,\n",
       "       1.7820547090795688e-06,\n",
       "       8.910273545397844e-07,\n",
       "       9.652796340847665e-07,\n",
       "       2.9700911817992813e-07,\n",
       "       2.9700911817992813e-07,\n",
       "       1.4850455908996406e-07,\n",
       "       1.4850455908996406e-07],\n",
       "      [2.0,\n",
       "       3264.5,\n",
       "       6527.0,\n",
       "       9789.5,\n",
       "       13052.0,\n",
       "       16314.5,\n",
       "       19577.0,\n",
       "       22839.5,\n",
       "       26102.0,\n",
       "       29364.5,\n",
       "       32627.0]],\n",
       "     'ref_small_hist': [[0.00021628190916071083,\n",
       "       3.133314837841067e-05,\n",
       "       4.5905989266304715e-06,\n",
       "       1.2939943283119455e-06,\n",
       "       5.391643034633106e-07,\n",
       "       1.694516382313261e-07,\n",
       "       4.621408315399807e-08,\n",
       "       6.161877753866404e-08,\n",
       "       1.540469438466602e-08,\n",
       "       3.080938876933202e-08],\n",
       "      [6.0,\n",
       "       3937.4,\n",
       "       7868.8,\n",
       "       11800.2,\n",
       "       15731.6,\n",
       "       19663.0,\n",
       "       23594.4,\n",
       "       27525.8,\n",
       "       31457.2,\n",
       "       35388.6,\n",
       "       39320.0]],\n",
       "     'feature_type': 'num',\n",
       "     'stattest_name': 'Wasserstein distance (normed)',\n",
       "     'drift_score': 0.03322548046220158,\n",
       "     'drift_detected': False},\n",
       "    'ocean_proximity': {'current_small_hist': [[1859, 1289, 3, 443, 534],\n",
       "      ['<1H OCEAN', 'INLAND', 'ISLAND', 'NEAR BAY', 'NEAR OCEAN']],\n",
       "     'ref_small_hist': [[7277, 5262, 2, 1847, 2124],\n",
       "      ['<1H OCEAN', 'INLAND', 'ISLAND', 'NEAR BAY', 'NEAR OCEAN']],\n",
       "     'feature_type': 'cat',\n",
       "     'stattest_name': 'Jensen-Shannon distance',\n",
       "     'drift_score': 0.0136520479344221,\n",
       "     'drift_detected': False}}}},\n",
       " 'timestamp': '2022-07-11 20:18:00.847285'}"
      ]
     },
     "execution_count": 27,
     "metadata": {},
     "output_type": "execute_result"
    }
   ],
   "source": [
    "data_validation.get_and_save_data_drift_report()"
   ]
  },
  {
   "cell_type": "code",
   "execution_count": 28,
   "metadata": {},
   "outputs": [
    {
     "data": {
      "text/html": [
       "<div>\n",
       "<style scoped>\n",
       "    .dataframe tbody tr th:only-of-type {\n",
       "        vertical-align: middle;\n",
       "    }\n",
       "\n",
       "    .dataframe tbody tr th {\n",
       "        vertical-align: top;\n",
       "    }\n",
       "\n",
       "    .dataframe thead th {\n",
       "        text-align: right;\n",
       "    }\n",
       "</style>\n",
       "<table border=\"1\" class=\"dataframe\">\n",
       "  <thead>\n",
       "    <tr style=\"text-align: right;\">\n",
       "      <th></th>\n",
       "      <th>longitude</th>\n",
       "      <th>latitude</th>\n",
       "      <th>housing_median_age</th>\n",
       "      <th>total_rooms</th>\n",
       "      <th>total_bedrooms</th>\n",
       "      <th>population</th>\n",
       "      <th>households</th>\n",
       "      <th>median_income</th>\n",
       "      <th>median_house_value</th>\n",
       "      <th>ocean_proximity</th>\n",
       "    </tr>\n",
       "  </thead>\n",
       "  <tbody>\n",
       "    <tr>\n",
       "      <th>0</th>\n",
       "      <td>-121.46</td>\n",
       "      <td>38.52</td>\n",
       "      <td>29.0</td>\n",
       "      <td>3873.0</td>\n",
       "      <td>797.0</td>\n",
       "      <td>2237.0</td>\n",
       "      <td>706.0</td>\n",
       "      <td>2.1736</td>\n",
       "      <td>72100.0</td>\n",
       "      <td>INLAND</td>\n",
       "    </tr>\n",
       "    <tr>\n",
       "      <th>1</th>\n",
       "      <td>-117.23</td>\n",
       "      <td>33.09</td>\n",
       "      <td>7.0</td>\n",
       "      <td>5320.0</td>\n",
       "      <td>855.0</td>\n",
       "      <td>2015.0</td>\n",
       "      <td>768.0</td>\n",
       "      <td>6.3373</td>\n",
       "      <td>279600.0</td>\n",
       "      <td>NEAR OCEAN</td>\n",
       "    </tr>\n",
       "  </tbody>\n",
       "</table>\n",
       "</div>"
      ],
      "text/plain": [
       "   longitude  latitude  housing_median_age  total_rooms  total_bedrooms  \\\n",
       "0    -121.46     38.52                29.0       3873.0           797.0   \n",
       "1    -117.23     33.09                 7.0       5320.0           855.0   \n",
       "\n",
       "   population  households  median_income  median_house_value ocean_proximity  \n",
       "0      2237.0       706.0         2.1736             72100.0          INLAND  \n",
       "1      2015.0       768.0         6.3373            279600.0      NEAR OCEAN  "
      ]
     },
     "execution_count": 28,
     "metadata": {},
     "output_type": "execute_result"
    }
   ],
   "source": [
    "train_df.head(2)"
   ]
  },
  {
   "cell_type": "code",
   "execution_count": null,
   "metadata": {},
   "outputs": [],
   "source": [
    "dashboard = Dashboard(tabs=[DataDriftTab()])\n",
    "            \n",
    "dashboard.calculate(train_df,test_df)\n",
    "\n",
    "report_page_file_path = data_validation_config.report_page_file_path\n",
    "report_page_dir = os.path.dirname(report_page_file_path)\n",
    "os.makedirs(report_page_dir,exist_ok=True)\n",
    "\n",
    "dashboard.save(report_page_file_path)"
   ]
  },
  {
   "cell_type": "code",
   "execution_count": 29,
   "metadata": {},
   "outputs": [
    {
     "data": {
      "text/plain": [
       "'d:\\\\ML Projects\\\\house_price_prediction\\\\housing\\\\artifact\\\\data-validation\\\\2022-07-11_20-17-12\\\\report.html'"
      ]
     },
     "execution_count": 29,
     "metadata": {},
     "output_type": "execute_result"
    }
   ],
   "source": [
    "data_validation_config.report_page_file_path"
   ]
  },
  {
   "cell_type": "code",
   "execution_count": 30,
   "metadata": {},
   "outputs": [],
   "source": [
    "data_validation.save_data_drift_report_page()"
   ]
  },
  {
   "cell_type": "code",
   "execution_count": 31,
   "metadata": {},
   "outputs": [
    {
     "data": {
      "text/plain": [
       "True"
      ]
     },
     "execution_count": 31,
     "metadata": {},
     "output_type": "execute_result"
    }
   ],
   "source": [
    "data_validation.is_data_drift_found()"
   ]
  },
  {
   "cell_type": "code",
   "execution_count": 32,
   "metadata": {},
   "outputs": [
    {
     "data": {
      "text/plain": [
       "DataValidationArtifact(schema_file_path='d:\\\\ML Projects\\\\house_price_prediction\\\\housing\\\\artifact\\\\data-validation\\\\2022-07-11_20-17-12\\\\schema.yaml', report_file_path='d:\\\\ML Projects\\\\house_price_prediction\\\\housing\\\\artifact\\\\data-validation\\\\2022-07-11_20-17-12\\\\report.json', report_page_file_path='d:\\\\ML Projects\\\\house_price_prediction\\\\housing\\\\artifact\\\\data-validation\\\\2022-07-11_20-17-12\\\\report.html', is_validated=True, message='Data validation Performed Successfuly')"
      ]
     },
     "execution_count": 32,
     "metadata": {},
     "output_type": "execute_result"
    }
   ],
   "source": [
    "data_validation.initiate_data_validation()"
   ]
  },
  {
   "cell_type": "code",
   "execution_count": null,
   "metadata": {},
   "outputs": [],
   "source": []
  }
 ],
 "metadata": {
  "kernelspec": {
   "display_name": "Python 3.8.0 64-bit ('venv')",
   "language": "python",
   "name": "python3"
  },
  "language_info": {
   "codemirror_mode": {
    "name": "ipython",
    "version": 3
   },
   "file_extension": ".py",
   "mimetype": "text/x-python",
   "name": "python",
   "nbconvert_exporter": "python",
   "pygments_lexer": "ipython3",
   "version": "3.8.0"
  },
  "orig_nbformat": 4,
  "vscode": {
   "interpreter": {
    "hash": "0fd6d81f1e5272f29fb2ced79108f36eae0dd168f0f3af2056730384b76497e9"
   }
  }
 },
 "nbformat": 4,
 "nbformat_minor": 2
}
